{
 "cells": [
  {
   "cell_type": "markdown",
   "metadata": {},
   "source": [
    "# TP de SD 211\n"
   ]
  },
  {
   "cell_type": "code",
   "execution_count": 1,
   "metadata": {},
   "outputs": [],
   "source": [
    "import numpy as np\n",
    "import matplotlib.pyplot as plt\n",
    "import scipy.optimize\n",
    "import scipy.sparse\n",
    "import scipy.sparse.linalg"
   ]
  },
  {
   "cell_type": "code",
   "execution_count": 2,
   "metadata": {},
   "outputs": [],
   "source": [
    "def build_matrix_from_faces(folder='orl_faces', minidata=False):\n",
    "    # load images\n",
    "    # 400 images of size (112, 92)\n",
    "    M = []\n",
    "    if minidata is True:\n",
    "        nb_subjects = 1\n",
    "    else:\n",
    "        nb_subjects = 40\n",
    "    for subject in range(1, nb_subjects + 1\n",
    "                        ):\n",
    "        for image in range(1, 11):\n",
    "            face = plt.imread(folder + '/s' + str(subject)\n",
    "                              + '/' + str(image) + '.pgm')\n",
    "            M.append(face.ravel())\n",
    "\n",
    "    return np.array(M, dtype=float)\n",
    "\n",
    "def vectorize(W, H):\n",
    "    return np.concatenate((W.ravel(), H.ravel()))\n",
    "\n",
    "def unvectorize_M(W_H, M):\n",
    "    # number of elements in W_H is (n+p)*k where M is of size n x m\n",
    "    # W has the nk first elements\n",
    "    # H has the kp last elements\n",
    "    n, p = M.shape\n",
    "    k = W_H.shape[0] // (n + p)\n",
    "    W = W_H[:n * k].reshape((n, k))\n",
    "    H = W_H[n * k:].reshape((k, p))\n",
    "    return W, H"
   ]
  },
  {
   "cell_type": "code",
   "execution_count": 3,
   "metadata": {},
   "outputs": [],
   "source": [
    "# Small data to test the algorithm\n",
    "M = build_matrix_from_faces(folder=r'C:\\Users\\Antoine\\Downloads\\att_faces', minidata=True)\n",
    "def unvectorize(W_H): return unvectorize_M(W_H, M)\n",
    "k = 2"
   ]
  },
  {
   "cell_type": "code",
   "execution_count": 4,
   "metadata": {},
   "outputs": [
    {
     "data": {
      "image/png": "[encoded data removed]",
      "text/plain": [
       "<Figure size 432x288 with 1 Axes>"
      ]
     },
     "metadata": {},
     "output_type": "display_data"
    }
   ],
   "source": [
    "# To see the first face:\n",
    "plt.imshow(M[0].reshape((112, 92)), cmap='gray'); plt.show()"
   ]
  },
  {
   "cell_type": "markdown",
   "metadata": {},
   "source": [
    "## Question 1.\n"
   ]
  },
  {
   "cell_type": "markdown",
   "metadata": {},
   "source": [
    "Il y a 400 images et ces images ont 92*112 pixels."
   ]
  },
  {
   "cell_type": "markdown",
   "metadata": {},
   "source": [
    "## Question 2.1"
   ]
  },
  {
   "cell_type": "markdown",
   "metadata": {},
   "source": [
    "Propriété 1:On remarque tout d'abord que si une fonction f $\\mathbb{R}^{n}\\rightarrow\\mathbb{R}$ est convexe alors toute fonction $\\tilde{f}$ définit par $\\forall(x,y)\\in \\mathbb{R}^{2}, \\tilde{f}(x,y)=f(0,...,0,x,0,...,0,y,0,..)$ est aussi convexe.\n",
    "Considérons la fonction g:$(x,y)\\rightarrow (1-xy)^{2}$\n",
    "\n",
    "On a: $g(0,0)=1$, $g(1,1)=0$ or $g(1/2,1/2)=9/16$\n",
    "\n",
    "Ainsi, $1/2\\times g(0,0)+1/2\\times g(1,1)\\leq g(1/2,1/2)$\n",
    "\n",
    "Donc g n'est pas convexe.\n",
    "\n",
    "Or si g n'est pas convexe alors par contraposé de la propriété 1, la focntion objectif n'est elle aussi pas convexe"
   ]
  },
  {
   "cell_type": "markdown",
   "metadata": {},
   "source": [
    "Claculons le gradient de la fonction par la methode de la différentielle.\n",
    "Commençons par calculer la première partie du gradient en différenciant par rapprot à H:\n",
    "On a: $\\frac{1}{2np}||M-W(H+\\delta H)||^{2}_{2}=\\frac{1}{2np}<M-W(H+\\delta H);M-W(H+\\delta H)>$\n",
    "                                         $=\\frac{1}{2np}(||M-WH||^{2}_{2}-2<M-WH;W\\delta H> +o(H))$\n",
    "                                         $=\\frac{1}{2np}(||M-WH||^{2}_{2}-2<^{t}W(M-WH);\\delta H>) +o(H)$\n",
    "                                         \n",
    "                                         \n",
    "                                         \n",
    "On en déduit par identification que la première partie du gradient est $\\frac{-1}{np}^{t}W(M-WH)$\n",
    "\n",
    "\n",
    "Maintenant calculons la deuxième parite du gradient par rapport à W:\n",
    "\n",
    "\\begin{align}\n",
    "\\frac{1}{2np}||M-(W+\\delta W)H||^{2}_{2}&=\\frac{1}{2np}<M-(W+\\delta W)H;M-(W+\\delta W)H> \\\\\n",
    "                                        &=\\frac{1}{2np}(||M-WH||^{2}_{2}-2<M-WH;\\delta WH> +o(W))\\\\\n",
    "                                        &=\\frac{1}{2np}(||M-WH||^{2}_{2}-2<(M-WH)^{t}H;\\delta W> +o(W))\n",
    "                                        \\end{align}\n",
    "\n",
    "\n",
    "Donc la deuxième partie du gradient est $\\frac{-1}{np}(M-WH)^{t}H$\n",
    "\n",
    "Si on appelle g la fonction objectif alors son gradient est donné par:\n",
    "$\\nabla g=\\begin{pmatrix} \n",
    "\\frac{-1}{np}(M-WH)^{t}H  \\\\\n",
    "\\frac{-1}{np}^{t}W(M-WH)\n",
    "\\end{pmatrix}$\n",
    "\n",
    "\n",
    "\n",
    "\n",
    "Montrons maintenant que la gradient n'est  pas Lipschitz continue,\n",
    "et pour cela nous allons nous placer dans la cas où n=k=p=1:\n",
    "\n",
    "On rappelle que le gradient de G est lipschitzien s'il existe L $\\in \\mathbb{R}^{+}$ tel que:\n",
    "$|| \\nabla G (W_{1},H_{1})- \\nabla G(W_{2},H_{2})|| \\leq L||(W_{1},H_{1})-(W_{2},H_{2})||$\n",
    "\n",
    "\n",
    "prenons maintenant $W_{1} et H_{1}$ les fonctions identités et $W_{2}, H_{2} $nulles.\n",
    "\n",
    "\n",
    "Dans notre cas:\n",
    "$|| \\nabla G (W_{1}(x),H_{1}(x))- \\nabla G(W_{2}(x),H_{2}(x)||^{2}=(-x(m-x^{2})+m^{2})^{2}+(-x(m-x^{2})+m^{2})^{2}=2x^{2}(x^{2}-m)^{2}$ \n",
    "\n",
    "Or:\n",
    "\n",
    "$||(W_1(x)-W_2(x),H_1(x)-H_2(x))||^2 = (x-0)^2 + (x-0)^2 = 2x^2$\n",
    "\n",
    "Ainsi si on écrit l'inégalité de lichitz on obtient que $\\forall x \\in \\mathbb{R}$\n",
    "$2x^{2}(x^{2}-m)^{2}\\leq L2x^{2}$\n",
    "en divisant par $x^{2}$, on obtient qu'un polynome de degrès 4 est inférieur à une constante  $\\forall x \\in \\mathbb{R}$ Ce qui est ilmpossible donc le gradient n'est pas lipschitzien."
   ]
  },
  {
   "cell_type": "markdown",
   "metadata": {},
   "source": [
    "## Question 3.1"
   ]
  },
  {
   "cell_type": "markdown",
   "metadata": {},
   "source": [
    "L'avantage de ce choix est que l'on est pas loin du resultat à obtenir à savoir la factorisation par deux matrices W et H.\n",
    "En effet la décomposition svd permet de transformer M en un produit de trois matrices U, $\\Sigma$ et V $M=U\\Sigma V$ avec $\\Sigma$ une matrice qui ressemble à une homothètie mais pas totalement car elle est de dimentinon $p\\times k$ avec $p\\ne k$. On se rend bien compte que l'on est proche de la factorisation WH c'est donc un bonne initialisation."
   ]
  },
  {
   "cell_type": "markdown",
   "metadata": {},
   "source": [
    "## Question 3.2"
   ]
  },
  {
   "cell_type": "markdown",
   "metadata": {},
   "source": [
    "Pour ce qui est du gradient nous l'avons déjà calculé précédemment car il s'agit de la deuxième composante du gradient de g précédemment définit soit:\n",
    "On sait que la fonction carré préserve la convexité donc montrer que g est convexe revient à montrer que:\n",
    "\n",
    "$h:W \\rightarrow ||M-WH_{0}||$\n",
    "est convexe:\n",
    "\n",
    "\n",
    "soit \n",
    "$(W_{1},W_{2})\\in M_{n,k}$ et  $\\lambda \\in [0,1]$\n",
    "\n",
    "\\begin{align}\n",
    "||M-(\\lambda W_{1}+(1-\\lambda)W_{2})H_{0}|| &=||\\lambda M+(1-\\lambda) \\\\\n",
    "    &=M-(\\lambda W_{1}+(1-\\lambda)W_{2})H_{0}|| \\\\\n",
    "    &=||\\lambda M-\\lambda W_{1}H_{0}+(1-\\lambda)M-(1-\\lambda)W_{2}H_0|| \\\\\n",
    "    &=\\lambda|| M- W_{1}H_{0}||+(1-\\lambda)||M-W_{2}H_0||\n",
    "\\end{align}\n",
    "\n",
    "Par inégalité triangulaire on obtient bien que g est convexe\n",
    "    \n",
    "\n",
    "\n",
    "$ \\nabla g =\\frac{-1}{np}^{t}W(M-WH_{0})$\n"
   ]
  },
  {
   "cell_type": "markdown",
   "metadata": {},
   "source": [
    "## Question 3.3"
   ]
  },
  {
   "cell_type": "code",
   "execution_count": 5,
   "metadata": {},
   "outputs": [],
   "source": [
    "def compute_g_w(W):\n",
    "    n,p=M.shape\n",
    "    L=M-np.dot(W,H0)\n",
    "    return (1/(2*n*p))*np.linalg.norm(L,\"fro\")**(2)"
   ]
  },
  {
   "cell_type": "code",
   "execution_count": 6,
   "metadata": {},
   "outputs": [],
   "source": [
    "def compute_grad_g(W):\n",
    "    n,p=M.shape\n",
    "    return -1/(n*p)*np.dot(M-np.dot(W,H0),H0.T)"
   ]
  },
  {
   "cell_type": "markdown",
   "metadata": {},
   "source": [
    "## Question 3.4"
   ]
  },
  {
   "cell_type": "markdown",
   "metadata": {},
   "source": [
    "$prox_{\\gamma\\iota_{\\mathbb{R}^{+}}}=argmin({\\gamma\\iota_{\\mathbb{R}^{+}}(y)+\\frac{1}{2}||y-x||^{2}})$"
   ]
  },
  {
   "cell_type": "markdown",
   "metadata": {},
   "source": [
    "Or, on remarque que si $x<0$ alors y ne peut pas être négatif car sinon le prox vaudrait $+\\infty$ pour minimiser il faut donc que y soit nul.\n",
    "\n",
    "Dans le cas où $0\\leq x$ alors en prenant $y=x$ on remarque ${\\gamma\\iota_{\\mathbb{R}^{+}}(y)+\\frac{1}{2}||y-x||^{2}}=0$ et $y=x$ est le seul point pour lequel $||x-y||=0$ \n",
    "\n",
    "Donc:\n",
    "Pour $x<0$, le prox vaut 0 et pour $ 0 \\leq x$ le prox vaut x:\n",
    "\n",
    "Donc le prox correspond donc bien à la projection sur $\\mathbb{R}^{+}$"
   ]
  },
  {
   "cell_type": "markdown",
   "metadata": {},
   "source": [
    "## Question 3.5"
   ]
  },
  {
   "cell_type": "code",
   "execution_count": 7,
   "metadata": {},
   "outputs": [],
   "source": [
    "def projected_gradient_method(val_g, grad_g,W0, gamma,N):\n",
    "    W=W0\n",
    "    for i in range (N):\n",
    "        W=W-gamma*grad_g(W)\n",
    "        W=np.maximum(W,0)\n",
    "    return val_g(W)"
   ]
  },
  {
   "cell_type": "markdown",
   "metadata": {},
   "source": [
    "## Question 3.6"
   ]
  },
  {
   "cell_type": "code",
   "execution_count": 8,
   "metadata": {},
   "outputs": [
    {
     "name": "stdout",
     "output_type": "stream",
     "text": [
      "2.222664966607934\n"
     ]
    },
    {
     "data": {
      "text/plain": [
       "442.2878543960478"
      ]
     },
     "execution_count": 8,
     "metadata": {},
     "output_type": "execute_result"
    }
   ],
   "source": [
    "W0, S, H0 = scipy.sparse.linalg.svds(M,k)\n",
    "W0 = np.maximum(0, W0 * np.sqrt(S)) \n",
    "H0 = np.maximum(0,(H0.T * np.sqrt(S)).T)\n",
    "n,p=M.shape\n",
    "K=np.dot(np.transpose(H0),H0)\n",
    "L0=np.linalg.norm(K,\"fro\")\n",
    "print((n*p)/L0)\n",
    "projected_gradient_method(compute_g_w,compute_grad_g,W0,(n*p)/L0,100)"
   ]
  },
  {
   "cell_type": "markdown",
   "metadata": {},
   "source": [
    "## Question 4.1"
   ]
  },
  {
   "cell_type": "markdown",
   "metadata": {},
   "source": [
    "Nous allons ici utiliser le line search:\n",
    "Cette methode consiste à trouver à chaque étape une valeur de $\\gamma$ idéale permettant d'éviter certains problèmes.\n",
    "Comme le gradient est lipschitz continue, comme il est indiqué à la question 3.2 cela est possible.\n",
    "à chaque étape on doit trouver $\\gamma_{k}$ tel que:\n",
    "$\\gamma_{k}=\\underset{\\gamma \\in \\underset{+}{\\mathbb{R}}}{argmin} \\ G(x_{k}-\\gamma \\nabla f(x_{k}))$\n",
    "Pour trouver ce $\\gamma_k$ on va dériver cette fonction pour en trouver le minimum.\n",
    "Si on nomme $F_k$ cette fonction alors on a:\n",
    "$\\frac{d F_k}{d \\gamma}(\\gamma)=<-\\nabla g(x_k), \\nabla g(x_k - \\gamma \\nabla g(x_k))>$\n",
    "\n",
    "\n",
    "Le gamma que l'on cherche est donc celui qui annule cette expression.\n",
    "\n",
    "Pour le trouver nous allons utiliser la mathode de newton."
   ]
  },
  {
   "cell_type": "code",
   "execution_count": 9,
   "metadata": {},
   "outputs": [],
   "source": [
    "def line_search_projected_gradient(val_g, grad_g, W0, gamma0,N):\n",
    "    W=W0\n",
    "    gamma = gamma0\n",
    "    for i in range (1,N):\n",
    "        F= lambda gamma: np.trace(-np.dot(grad_g(W).T,grad_g(W - gamma*grad_g(W))))\n",
    "        W = ((W - gamma*grad_g(W))>0)*(W - gamma*grad_g(W))\n",
    "        gamma = scipy.optimize.newton(F, gamma)\n",
    "    return val_g(W)"
   ]
  },
  {
   "cell_type": "code",
   "execution_count": 10,
   "metadata": {},
   "outputs": [
    {
     "data": {
      "text/plain": [
       "442.6972009318645"
      ]
     },
     "execution_count": 10,
     "metadata": {},
     "output_type": "execute_result"
    }
   ],
   "source": [
    "line_search_projected_gradient(compute_g_w, compute_grad_g, W0, n*p/L0,10)"
   ]
  },
  {
   "cell_type": "markdown",
   "metadata": {},
   "source": [
    "## Question 4.2"
   ]
  },
  {
   "cell_type": "markdown",
   "metadata": {},
   "source": [
    "On remarque que le second algorithme met moins de temps à s'executer que le premier. C'est tout à fait normal car la procédure du line search est plus efficace."
   ]
  },
  {
   "cell_type": "markdown",
   "metadata": {},
   "source": [
    "## Question 5.1"
   ]
  },
  {
   "cell_type": "code",
   "execution_count": 11,
   "metadata": {},
   "outputs": [],
   "source": [
    "def compute_g_w_2(W,H):\n",
    "    n,p=M.shape\n",
    "    L=M-np.dot(W,H0)\n",
    "    W=W.reshape((n,k))\n",
    "    return (1/(2*n*p))*np.linalg.norm(L,\"fro\")**(2)"
   ]
  },
  {
   "cell_type": "code",
   "execution_count": 12,
   "metadata": {},
   "outputs": [],
   "source": [
    "def compute_grad_g_2(W,H):\n",
    "    n,p=M.shape\n",
    "    W=W.reshape((n,k))\n",
    "    return vectorize((-1/n*p)*np.dot((M-np.dot(W,H)),H.T),-1/(n*p)*np.dot(W.T,M-np.dot(W,H)))"
   ]
  },
  {
   "cell_type": "code",
   "execution_count": 13,
   "metadata": {},
   "outputs": [],
   "source": [
    "def projected_gradient_method_2(valg,gradg,W0,H0,gamma0,N):\n",
    "    W=W0\n",
    "    H=H0\n",
    "    gamma=gamma0\n",
    "    for i in range (N):\n",
    "        W,H=unvectorize_M(np.maximum(0,vectorize(W,H)-gamma*gradg(W,H)),M)\n",
    "        L=unvectorize_M(vectorize(W,H)-gamma*gradg(W,H),M)\n",
    "        F=lambda gamma: -np.dot(gradg(W,H).T,gradg(L[0],L[1]))\n",
    "        gamma=scipy.optimize.newton(F,gamma)\n",
    "\n",
    "    return vectorize(W,H), valg(W,H)"
   ]
  },
  {
   "cell_type": "code",
   "execution_count": 14,
   "metadata": {},
   "outputs": [
    {
     "name": "stderr",
     "output_type": "stream",
     "text": [
      "C:\\Users\\Antoine\\Anaconda3\\lib\\site-packages\\scipy\\optimize\\zeros.py:195: RuntimeWarning: Tolerance of 0.00019999999999997797 reached\n",
      "  warnings.warn(msg, RuntimeWarning)\n",
      "C:\\Users\\Antoine\\Anaconda3\\lib\\site-packages\\scipy\\optimize\\zeros.py:195: RuntimeWarning: Tolerance of 0.0002000099999999172 reached\n",
      "  warnings.warn(msg, RuntimeWarning)\n",
      "C:\\Users\\Antoine\\Anaconda3\\lib\\site-packages\\scipy\\optimize\\zeros.py:195: RuntimeWarning: Tolerance of 0.00020002000049990087 reached\n",
      "  warnings.warn(msg, RuntimeWarning)\n",
      "C:\\Users\\Antoine\\Anaconda3\\lib\\site-packages\\scipy\\optimize\\zeros.py:195: RuntimeWarning: Tolerance of 0.000200030001499929 reached\n",
      "  warnings.warn(msg, RuntimeWarning)\n",
      "C:\\Users\\Antoine\\Anaconda3\\lib\\site-packages\\scipy\\optimize\\zeros.py:195: RuntimeWarning: Tolerance of 0.00020004000300000158 reached\n",
      "  warnings.warn(msg, RuntimeWarning)\n",
      "C:\\Users\\Antoine\\Anaconda3\\lib\\site-packages\\scipy\\optimize\\zeros.py:195: RuntimeWarning: Tolerance of 0.0002000500050001186 reached\n",
      "  warnings.warn(msg, RuntimeWarning)\n",
      "C:\\Users\\Antoine\\Anaconda3\\lib\\site-packages\\scipy\\optimize\\zeros.py:195: RuntimeWarning: Tolerance of 0.00020006000750050212 reached\n",
      "  warnings.warn(msg, RuntimeWarning)\n",
      "C:\\Users\\Antoine\\Anaconda3\\lib\\site-packages\\scipy\\optimize\\zeros.py:195: RuntimeWarning: Tolerance of 0.0002000700105009301 reached\n",
      "  warnings.warn(msg, RuntimeWarning)\n",
      "C:\\Users\\Antoine\\Anaconda3\\lib\\site-packages\\scipy\\optimize\\zeros.py:195: RuntimeWarning: Tolerance of 0.00020008001400140252 reached\n",
      "  warnings.warn(msg, RuntimeWarning)\n",
      "C:\\Users\\Antoine\\Anaconda3\\lib\\site-packages\\scipy\\optimize\\zeros.py:195: RuntimeWarning: Tolerance of 0.00020009001800214143 reached\n",
      "  warnings.warn(msg, RuntimeWarning)\n",
      "C:\\Users\\Antoine\\Anaconda3\\lib\\site-packages\\scipy\\optimize\\zeros.py:195: RuntimeWarning: Tolerance of 0.0002001000225029248 reached\n",
      "  warnings.warn(msg, RuntimeWarning)\n",
      "C:\\Users\\Antoine\\Anaconda3\\lib\\site-packages\\scipy\\optimize\\zeros.py:195: RuntimeWarning: Tolerance of 0.0002001100275041967 reached\n",
      "  warnings.warn(msg, RuntimeWarning)\n",
      "C:\\Users\\Antoine\\Anaconda3\\lib\\site-packages\\scipy\\optimize\\zeros.py:195: RuntimeWarning: Tolerance of 0.00020012003300551306 reached\n",
      "  warnings.warn(msg, RuntimeWarning)\n",
      "C:\\Users\\Antoine\\Anaconda3\\lib\\site-packages\\scipy\\optimize\\zeros.py:195: RuntimeWarning: Tolerance of 0.00020013003900709592 reached\n",
      "  warnings.warn(msg, RuntimeWarning)\n",
      "C:\\Users\\Antoine\\Anaconda3\\lib\\site-packages\\scipy\\optimize\\zeros.py:195: RuntimeWarning: Tolerance of 0.0002001400455091673 reached\n",
      "  warnings.warn(msg, RuntimeWarning)\n",
      "C:\\Users\\Antoine\\Anaconda3\\lib\\site-packages\\scipy\\optimize\\zeros.py:195: RuntimeWarning: Tolerance of 0.00020015005251128315 reached\n",
      "  warnings.warn(msg, RuntimeWarning)\n",
      "C:\\Users\\Antoine\\Anaconda3\\lib\\site-packages\\scipy\\optimize\\zeros.py:195: RuntimeWarning: Tolerance of 0.00020016006001388753 reached\n",
      "  warnings.warn(msg, RuntimeWarning)\n",
      "C:\\Users\\Antoine\\Anaconda3\\lib\\site-packages\\scipy\\optimize\\zeros.py:195: RuntimeWarning: Tolerance of 0.00020017006801698045 reached\n",
      "  warnings.warn(msg, RuntimeWarning)\n",
      "C:\\Users\\Antoine\\Anaconda3\\lib\\site-packages\\scipy\\optimize\\zeros.py:195: RuntimeWarning: Tolerance of 0.00020018007652033987 reached\n",
      "  warnings.warn(msg, RuntimeWarning)\n",
      "C:\\Users\\Antoine\\Anaconda3\\lib\\site-packages\\scipy\\optimize\\zeros.py:195: RuntimeWarning: Tolerance of 0.00020019008552418782 reached\n",
      "  warnings.warn(msg, RuntimeWarning)\n",
      "C:\\Users\\Antoine\\Anaconda3\\lib\\site-packages\\scipy\\optimize\\zeros.py:195: RuntimeWarning: Tolerance of 0.00020020009502852432 reached\n",
      "  warnings.warn(msg, RuntimeWarning)\n",
      "C:\\Users\\Antoine\\Anaconda3\\lib\\site-packages\\scipy\\optimize\\zeros.py:195: RuntimeWarning: Tolerance of 0.0002002101050331273 reached\n",
      "  warnings.warn(msg, RuntimeWarning)\n",
      "C:\\Users\\Antoine\\Anaconda3\\lib\\site-packages\\scipy\\optimize\\zeros.py:195: RuntimeWarning: Tolerance of 0.00020022011553844088 reached\n",
      "  warnings.warn(msg, RuntimeWarning)\n",
      "C:\\Users\\Antoine\\Anaconda3\\lib\\site-packages\\scipy\\optimize\\zeros.py:195: RuntimeWarning: Tolerance of 0.000200230126544243 reached\n",
      "  warnings.warn(msg, RuntimeWarning)\n",
      "C:\\Users\\Antoine\\Anaconda3\\lib\\site-packages\\scipy\\optimize\\zeros.py:195: RuntimeWarning: Tolerance of 0.00020024013805053364 reached\n",
      "  warnings.warn(msg, RuntimeWarning)\n",
      "C:\\Users\\Antoine\\Anaconda3\\lib\\site-packages\\scipy\\optimize\\zeros.py:195: RuntimeWarning: Tolerance of 0.00020025015005753488 reached\n",
      "  warnings.warn(msg, RuntimeWarning)\n",
      "C:\\Users\\Antoine\\Anaconda3\\lib\\site-packages\\scipy\\optimize\\zeros.py:195: RuntimeWarning: Tolerance of 0.00020026016256502466 reached\n",
      "  warnings.warn(msg, RuntimeWarning)\n",
      "C:\\Users\\Antoine\\Anaconda3\\lib\\site-packages\\scipy\\optimize\\zeros.py:195: RuntimeWarning: Tolerance of 0.00020027017557322502 reached\n",
      "  warnings.warn(msg, RuntimeWarning)\n",
      "C:\\Users\\Antoine\\Anaconda3\\lib\\site-packages\\ipykernel_launcher.py:4: RuntimeWarning: overflow encountered in multiply\n",
      "  after removing the cwd from sys.path.\n"
     ]
    },
    {
     "ename": "RuntimeError",
     "evalue": "Failed to converge after 50 iterations, value is nan",
     "output_type": "error",
     "traceback": [
      "\u001b[1;31m---------------------------------------------------------------------------\u001b[0m",
      "\u001b[1;31mRuntimeError\u001b[0m                              Traceback (most recent call last)",
      "\u001b[1;32m<ipython-input-14-df8d6a06707d>\u001b[0m in \u001b[0;36m<module>\u001b[1;34m()\u001b[0m\n\u001b[1;32m----> 1\u001b[1;33m \u001b[0mprojected_gradient_method_2\u001b[0m\u001b[1;33m(\u001b[0m\u001b[0mcompute_g_w_2\u001b[0m\u001b[1;33m,\u001b[0m\u001b[0mcompute_grad_g_2\u001b[0m\u001b[1;33m,\u001b[0m\u001b[0mW0\u001b[0m\u001b[1;33m,\u001b[0m\u001b[0mH0\u001b[0m\u001b[1;33m,\u001b[0m\u001b[1;36m1\u001b[0m\u001b[1;33m,\u001b[0m\u001b[1;36m1000\u001b[0m\u001b[1;33m)\u001b[0m\u001b[1;33m\u001b[0m\u001b[0m\n\u001b[0m",
      "\u001b[1;32m<ipython-input-13-f11dcd4c3992>\u001b[0m in \u001b[0;36mprojected_gradient_method_2\u001b[1;34m(valg, gradg, W0, H0, gamma0, N)\u001b[0m\n\u001b[0;32m      7\u001b[0m         \u001b[0mL\u001b[0m\u001b[1;33m=\u001b[0m\u001b[0munvectorize_M\u001b[0m\u001b[1;33m(\u001b[0m\u001b[0mvectorize\u001b[0m\u001b[1;33m(\u001b[0m\u001b[0mW\u001b[0m\u001b[1;33m,\u001b[0m\u001b[0mH\u001b[0m\u001b[1;33m)\u001b[0m\u001b[1;33m-\u001b[0m\u001b[0mgamma\u001b[0m\u001b[1;33m*\u001b[0m\u001b[0mgradg\u001b[0m\u001b[1;33m(\u001b[0m\u001b[0mW\u001b[0m\u001b[1;33m,\u001b[0m\u001b[0mH\u001b[0m\u001b[1;33m)\u001b[0m\u001b[1;33m,\u001b[0m\u001b[0mM\u001b[0m\u001b[1;33m)\u001b[0m\u001b[1;33m\u001b[0m\u001b[0m\n\u001b[0;32m      8\u001b[0m         \u001b[0mF\u001b[0m\u001b[1;33m=\u001b[0m\u001b[1;32mlambda\u001b[0m \u001b[0mgamma\u001b[0m\u001b[1;33m:\u001b[0m \u001b[1;33m-\u001b[0m\u001b[0mnp\u001b[0m\u001b[1;33m.\u001b[0m\u001b[0mdot\u001b[0m\u001b[1;33m(\u001b[0m\u001b[0mgradg\u001b[0m\u001b[1;33m(\u001b[0m\u001b[0mW\u001b[0m\u001b[1;33m,\u001b[0m\u001b[0mH\u001b[0m\u001b[1;33m)\u001b[0m\u001b[1;33m.\u001b[0m\u001b[0mT\u001b[0m\u001b[1;33m,\u001b[0m\u001b[0mgradg\u001b[0m\u001b[1;33m(\u001b[0m\u001b[0mL\u001b[0m\u001b[1;33m[\u001b[0m\u001b[1;36m0\u001b[0m\u001b[1;33m]\u001b[0m\u001b[1;33m,\u001b[0m\u001b[0mL\u001b[0m\u001b[1;33m[\u001b[0m\u001b[1;36m1\u001b[0m\u001b[1;33m]\u001b[0m\u001b[1;33m)\u001b[0m\u001b[1;33m)\u001b[0m\u001b[1;33m\u001b[0m\u001b[0m\n\u001b[1;32m----> 9\u001b[1;33m         \u001b[0mgamma\u001b[0m\u001b[1;33m=\u001b[0m\u001b[0mscipy\u001b[0m\u001b[1;33m.\u001b[0m\u001b[0moptimize\u001b[0m\u001b[1;33m.\u001b[0m\u001b[0mnewton\u001b[0m\u001b[1;33m(\u001b[0m\u001b[0mF\u001b[0m\u001b[1;33m,\u001b[0m\u001b[0mgamma\u001b[0m\u001b[1;33m)\u001b[0m\u001b[1;33m\u001b[0m\u001b[0m\n\u001b[0m\u001b[0;32m     10\u001b[0m \u001b[1;33m\u001b[0m\u001b[0m\n\u001b[0;32m     11\u001b[0m     \u001b[1;32mreturn\u001b[0m \u001b[0mvectorize\u001b[0m\u001b[1;33m(\u001b[0m\u001b[0mW\u001b[0m\u001b[1;33m,\u001b[0m\u001b[0mH\u001b[0m\u001b[1;33m)\u001b[0m\u001b[1;33m,\u001b[0m \u001b[0mvalg\u001b[0m\u001b[1;33m(\u001b[0m\u001b[0mW\u001b[0m\u001b[1;33m,\u001b[0m\u001b[0mH\u001b[0m\u001b[1;33m)\u001b[0m\u001b[1;33m\u001b[0m\u001b[0m\n",
      "\u001b[1;32m~\\Anaconda3\\lib\\site-packages\\scipy\\optimize\\zeros.py\u001b[0m in \u001b[0;36mnewton\u001b[1;34m(func, x0, fprime, args, tol, maxiter, fprime2)\u001b[0m\n\u001b[0;32m    204\u001b[0m             \u001b[0mq1\u001b[0m \u001b[1;33m=\u001b[0m \u001b[0mfunc\u001b[0m\u001b[1;33m(\u001b[0m\u001b[0mp1\u001b[0m\u001b[1;33m,\u001b[0m \u001b[1;33m*\u001b[0m\u001b[0margs\u001b[0m\u001b[1;33m)\u001b[0m\u001b[1;33m\u001b[0m\u001b[0m\n\u001b[0;32m    205\u001b[0m     \u001b[0mmsg\u001b[0m \u001b[1;33m=\u001b[0m \u001b[1;34m\"Failed to converge after %d iterations, value is %s\"\u001b[0m \u001b[1;33m%\u001b[0m \u001b[1;33m(\u001b[0m\u001b[0mmaxiter\u001b[0m\u001b[1;33m,\u001b[0m \u001b[0mp\u001b[0m\u001b[1;33m)\u001b[0m\u001b[1;33m\u001b[0m\u001b[0m\n\u001b[1;32m--> 206\u001b[1;33m     \u001b[1;32mraise\u001b[0m \u001b[0mRuntimeError\u001b[0m\u001b[1;33m(\u001b[0m\u001b[0mmsg\u001b[0m\u001b[1;33m)\u001b[0m\u001b[1;33m\u001b[0m\u001b[0m\n\u001b[0m\u001b[0;32m    207\u001b[0m \u001b[1;33m\u001b[0m\u001b[0m\n\u001b[0;32m    208\u001b[0m \u001b[1;33m\u001b[0m\u001b[0m\n",
      "\u001b[1;31mRuntimeError\u001b[0m: Failed to converge after 50 iterations, value is nan"
     ]
    }
   ],
   "source": [
    "projected_gradient_method_2(compute_g_w_2,compute_grad_g_2,W0,H0,1,1000)\n"
   ]
  },
  {
   "cell_type": "markdown",
   "metadata": {},
   "source": [
    "## Question 5.2 "
   ]
  },
  {
   "cell_type": "markdown",
   "metadata": {},
   "source": [
    "Prenons la tième itération on a par définition:\n",
    "\n",
    "$W_t = \\underset{W}{argmin} \\frac{1}{2np} ||M - WH_{t-1}||^2$\n",
    "\n",
    "$H_t = \\underset{H}{argmin} \\frac{1}{2np} ||M - W_t H||^2$\n",
    "\n",
    "On a alors les inégalités suivantes:\n",
    "\n",
    "$\\frac{1}{2np} ||M - W_t H_t||^2 \\le \\frac{1}{2np} ||M - W_t H_{t-1}||^2$\n",
    "\n",
    "$\\frac{1}{2np} ||M - W_t H_{t-1}||^2 \\le \\frac{1}{2np} ||M - W_{t-1} H_{t-1}||^2$\n",
    "\n",
    "Par définition\n",
    "\n",
    "On en déduit donc que la suite est décroissante.\n",
    "Puis comme elle est minorée par 0 alors elle est convergente"
   ]
  },
  {
   "cell_type": "markdown",
   "metadata": {},
   "source": [
    "## Question 5.3"
   ]
  },
  {
   "cell_type": "markdown",
   "metadata": {},
   "source": [
    "Pour coder cette methode, il  suffit de déterminer $W_{t}$ et $H_{t}$ à chaque étape. Pour déterminer les minimums des fonctions nous allons encore utiliser la methode de la descente du gradient. Sauf que cette fois si il s'agit de déterminer les gradients en fixant une des deux variables.\n"
   ]
  },
  {
   "cell_type": "code",
   "execution_count": null,
   "metadata": {},
   "outputs": [],
   "source": [
    "def gradient_H(W,H):\n",
    "    return -(1/(n*p))*np.dot(W.T,M - np.dot(W,H))\n"
   ]
  },
  {
   "cell_type": "code",
   "execution_count": null,
   "metadata": {},
   "outputs": [],
   "source": [
    "def gradient_W(W,H):\n",
    "    return -(1/(n*p))*np.dot((M-np.dot(W,H)),H.T)"
   ]
  },
  {
   "cell_type": "code",
   "execution_count": null,
   "metadata": {},
   "outputs": [],
   "source": [
    "def determ_W_t(g, gradw, W0, H0, gamma, N):\n",
    "    W,H = W0, H0\n",
    "    for i in range(1,N):\n",
    "        W = np.maximum(0,W - gamma*gradw(W,H))\n",
    "    return W"
   ]
  },
  {
   "cell_type": "code",
   "execution_count": null,
   "metadata": {},
   "outputs": [],
   "source": [
    "def determ_H_t(g, gradh, W0, H0, gamma, N):\n",
    "    W,H = W0, H0\n",
    "    for i in range(1,N):\n",
    "        H = np.maximum(0,H - gamma*gradh(W,H))\n",
    "    return H"
   ]
  },
  {
   "cell_type": "code",
   "execution_count": null,
   "metadata": {},
   "outputs": [],
   "source": [
    "def alternate_minimization_method(g, gradh, gradw, W0, H0, gamma, N):\n",
    "    W, H = W0, H0\n",
    "    for i in range(1,N):\n",
    "        H = determ_W_t(g, gradh, W, H, gamma, N)\n",
    "        W = determ_H_t(g, gradw, W, H, gamma, N)\n",
    "    return g(vectorize(W,H))"
   ]
  },
  {
   "cell_type": "code",
   "execution_count": null,
   "metadata": {},
   "outputs": [],
   "source": [
    "def g_modified(W):\n",
    "    W, H = unvectorize_M(W,M)\n",
    "    return (1/(2*n*p))*np.linalg.norm(M-np.dot(W,H),ord='fro')**2"
   ]
  },
  {
   "cell_type": "code",
   "execution_count": null,
   "metadata": {},
   "outputs": [],
   "source": [
    "alternate_minimization_method(g_modified,gradient_H, gradient_W, W0, H0, n*p/L0,1000)"
   ]
  },
  {
   "cell_type": "markdown",
   "metadata": {},
   "source": [
    "## Question 5.4"
   ]
  },
  {
   "cell_type": "markdown",
   "metadata": {},
   "source": [
    "On remarque que la methode alternate  est très longue en temps d'execution, beaucoup plus longue que la methode précédemment utilisée"
   ]
  },
  {
   "cell_type": "markdown",
   "metadata": {},
   "source": [
    "## Question 5.5"
   ]
  },
  {
   "cell_type": "markdown",
   "metadata": {},
   "source": [
    "Il s'agit ici d'un problème de convergence et de limite. Introduire un $\\epsilon$ suffisamment petit de manière à arreter le processus lorque $||M-WH||<\\epsilon$ est la solution la intuitive. Elle permet aussi de limiter des itérations parfois inutile lorsque la précision est déjà bonne."
   ]
  }
 ],
 "metadata": {
  "kernelspec": {
   "display_name": "Python 3",
   "language": "python",
   "name": "python3"
  },
  "language_info": {
   "codemirror_mode": {
    "name": "ipython",
    "version": 3
   },
   "file_extension": ".py",
   "mimetype": "text/x-python",
   "name": "python",
   "nbconvert_exporter": "python",
   "pygments_lexer": "ipython3",
   "version": "3.6.5"
  }
 },
 "nbformat": 4,
 "nbformat_minor": 2
}
