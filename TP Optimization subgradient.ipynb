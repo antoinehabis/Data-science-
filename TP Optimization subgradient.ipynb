{
 "cells": [
  {
   "cell_type": "markdown",
   "metadata": {},
   "source": [
    "# TP optimization Subgradient methods"
   ]
  },
  {
   "cell_type": "markdown",
   "metadata": {},
   "source": [
    "## Antoine HABIS"
   ]
  },
  {
   "cell_type": "code",
   "execution_count": 1,
   "metadata": {},
   "outputs": [],
   "source": [
    "import numpy as np\n",
    "import matplotlib.pyplot as plt\n",
    "\n",
    "def load_breastcancer(filename):\n",
    "    \"\"\"\n",
    "    Cette fonction lit le fichier filename, par exemple\n",
    "    filename = 'wdbc_M1_B0.data'\n",
    "    Elle retourne \n",
    "    X : une matrice de caracteristiques\n",
    "    y : un vecteur des classes tel que si y[i] = 1, la tumeur est maligne\n",
    "        et si y[i] = -1, la tumeur est benigne\n",
    "\n",
    "    Pour plus d'infos sur la base de donnees,\n",
    "    https://archive.ics.uci.edu/ml/datasets/Breast+Cancer+Wisconsin+%28Prognostic%29\n",
    "    \"\"\"\n",
    "\n",
    "    data = np.loadtxt(r'C:\\Users\\Antoine\\Downloads\\wdbcM1B0 (1).data', delimiter=',')\n",
    "\n",
    "    # la colonne 0 ne nous interesse pas ici\n",
    "    y = data[:, 1] * 2 - 1\n",
    "    X = data[:, 2:]\n",
    "\n",
    "    # Standardisation de la matrice\n",
    "    X = X - np.mean(X, axis=0)\n",
    "    X = X / np.std(X, axis=0)\n",
    "\n",
    "    return X, y\n"
   ]
  },
  {
   "cell_type": "markdown",
   "metadata": {},
   "source": [
    "## Question 2.1"
   ]
  },
  {
   "cell_type": "markdown",
   "metadata": {},
   "source": [
    "$$\n",
    "\\left.\n",
    "    \\begin{array}{ll}\n",
    "        \\xi_i \\geq 0, \\forall i \\in \\{1,...,n\\} \\\\\n",
    "        \\xi_i \\geq 1-y_i(x_i^{T}v+a), \\forall i \\in\\{1,...,n\\}\n",
    "    \\end{array}\n",
    "\\right\\}\n",
    "\\iff \\xi_i \\geq \\max (0,1-y_i(x_i^{T}v+a)), \\forall i \\in \\{0,...,n\\}\n",
    "$$\n",
    "\n",
    "Or comme il est possible d'inverser l'ordre des mins, on commence par minimiser sur les $\\xi_i$.\n",
    "\n",
    "\n",
    "En minimisant au maximum, on égalise la contrainte $\\max (0,1-y_i(x_i^{T}v+a))$\n",
    "\n",
    "On obtient donc le résultat:\n",
    "    $\\min_{v\\in \\mathbb{R}^m,a\\in \\mathbb{R}} \\frac{1}{2} \\sum_{j=1}^{m} v_j^2 +\\sum_{i=1}^{n}max(0,1-y_i(x_i^{T}v+a))$\n",
    "\n",
    "\n"
   ]
  },
  {
   "cell_type": "markdown",
   "metadata": {},
   "source": [
    "## Question 2.2"
   ]
  },
  {
   "cell_type": "code",
   "execution_count": 2,
   "metadata": {},
   "outputs": [
    {
     "data": {
      "image/png": "[encoded data removed]",
      "text/plain": [
       "<Figure size 432x288 with 1 Axes>"
      ]
     },
     "metadata": {},
     "output_type": "display_data"
    }
   ],
   "source": [
    "x=np.arange(-10,10,0.5)\n",
    "y=[]\n",
    "for i in range (len(x)):\n",
    "        y.append(max(0,1-x[i]))\n",
    "plt.plot(x,y,label='fonction h')\n",
    "plt.plot([-9, 11], [6, -6], 'r--', lw=2)\n",
    "plt.plot([-9, 11], [4, -4], 'r--', lw=2)\n",
    "plt.plot([-9, 11], [2, -2], 'r--', lw=2)\n",
    "plt.title('représentation de la fonction h')\n",
    "plt.xlabel('x')\n",
    "plt.ylabel('h(x)')\n",
    "plt.legend()\n",
    "plt.show()\n"
   ]
  },
  {
   "cell_type": "markdown",
   "metadata": {},
   "source": [
    "On voit bien sur la représentation de h que pour les $x < 1$ la sous différentielle est égale au coeffcient directeur soit $\\delta h(x)=\\{-1\\}$.\n",
    "\n",
    "\n",
    "Pour les $x>1$, c'est la même chose $\\delta h(x)=\\{0\\}$\n",
    "\n",
    "\n",
    "Enfin pour $x=0$, On voit bien sur la courbe que toutes les droites passant pas 0 et de coefficient directeur compris dans $[-1,0]$ sont en dessous de h.\n",
    "Donc pour $x=1$: $\\delta h(1)=[-1,0]$"
   ]
  },
  {
   "cell_type": "markdown",
   "metadata": {},
   "source": [
    "## Question 2.3"
   ]
  },
  {
   "cell_type": "markdown",
   "metadata": {},
   "source": [
    "Il suffit de prendre $N(v,a)=\\frac{1}{2}||v||_2^2$\n",
    "\n",
    "$M(v,a)=u$ \n",
    "\n",
    "u étant un vecteur tel que $u_i=y_i(x_i^Tv+a) \\forall i \\in \\{1,...,n\\}$\n",
    "\n",
    "Cette application est trivialement linéaire (pas multilinéaire mais linéaire à deux variables).\n",
    "\n",
    "Puis en prenant H tel que:\n",
    "\n",
    "$H(z)=\\sum_{i=1}^p\\max(0,1-z_i)$\n",
    "\n",
    "H et N sont évidement  séparables avec $n_i(v_i)=\\frac{1}{2}v_i^2$ et $h(z_i)=\\max(0,1-z_i)$\n",
    "\n",
    "\n",
    "\n",
    "Il suffit maintenant de calculer la sous différentielle:\n",
    "$\\delta H(M(v,a))=\\delta h(M(v,a)_1)\\times...\\times\\delta h(M(v,a)_p)$\n",
    "\n",
    "Or $\\forall i \\in \\{1,...,p\\}, \\delta h(M(v,a)_i)=M(v,a)_i^T\\delta h(M(v,a)_i)$\n",
    "\n",
    "Donc $\\delta f(v,a)= \\delta N(v,a) +cM^T\\delta H(M(v,a))$\n",
    "\n",
    "\n",
    "On a $\\delta_v N(v,a)=v$ et $\\delta_a N(v,a)=0$ donc \n",
    "\n",
    "$\\delta N(v,a)=\\begin{pmatrix} \n",
    "v  \\\\\n",
    "0 \n",
    "\\end{pmatrix}$\n",
    "\n",
    "Puis, \n",
    "\n",
    "$$\\forall u \\in \\mathbb{R}^{n}, \\partial H(u) = \\prod_{i = 1}^{n} \\partial h(u_{i})$$\n",
    "\n",
    "\n",
    "Or nous avons déjà calculé précement les dérivées partielles de h"
   ]
  },
  {
   "cell_type": "markdown",
   "metadata": {},
   "source": [
    "## Question 2.4"
   ]
  },
  {
   "cell_type": "code",
   "execution_count": 3,
   "metadata": {},
   "outputs": [],
   "source": [
    "X,y=load_breastcancer(r'C:\\Users\\Antoine\\Downloads\\wdbcM1B0 (1).data')\n",
    "\n",
    "\n",
    "n = X.shape[0]\n",
    "m = X.shape[1]\n",
    "\n",
    "\n",
    "\n",
    "def f(x,c=1) : \n",
    "    v = np.transpose(x[1:])\n",
    "    X1 = np.hstack((np.ones((n,1)),X))\n",
    "    \n",
    "    \n",
    "    D = np.diag([y[i] for i in range(y.shape[0])])\n",
    "    Mva = np.dot(D,np.dot(X1,np.transpose(x)))\n",
    "    \n",
    "    H_ = np.sum([max([0,1-Mva[i]]) for i in range(n)])\n",
    "    \n",
    "    Nva = 0.5*np.sum([v[i]**(2) for i in range(m)])\n",
    "    \n",
    "    return Nva+ c*H_\n",
    "\n",
    "\n",
    "def ss_grad_h(v):\n",
    "    if v<1:\n",
    "        return -1\n",
    "    if v==1:\n",
    "        return -np.random.random_sample()\n",
    "    else:\n",
    "        return 0\n",
    "    \n",
    "    \n",
    "def df(x,c=1) : \n",
    "    X1 = np.hstack((np.ones((n,1)),X))\n",
    "    D = np.diag([y[i] for i in range(y.shape[0])])\n",
    "    M = np.dot(D,X1)\n",
    "    Mva = np.dot(M,(np.transpose(x)))\n",
    "    delta_h_Mva = []\n",
    "    for i in range(n) : \n",
    "        delta_h_Mva.append(ss_grad_h(Mva[i]))\n",
    "        \n",
    "    delta_h_Mva = np.array(delta_h_Mva)\n",
    "    v = np.transpose(x[1:])\n",
    "    dN = list(v)\n",
    "    dN.append(0)\n",
    "      # mise sous forme matricielle\n",
    "    dN = np.array(dN)\n",
    "    return dN+ c*np.dot(np.transpose(M),delta_h_Mva)\n",
    "\n"
   ]
  },
  {
   "cell_type": "markdown",
   "metadata": {},
   "source": [
    "## Question 2.5"
   ]
  },
  {
   "cell_type": "code",
   "execution_count": 4,
   "metadata": {},
   "outputs": [],
   "source": [
    "def methode_sous_grad(x0,gamma0) :\n",
    "    a = x0[0]\n",
    "    v = x0[1]\n",
    "    L=[]\n",
    "    x = np.hstack((a,v.T))\n",
    "    Xgrad, Ygrad = [],[]\n",
    "    for i in range(1000) : \n",
    "        x -= gamma0*df(x)\n",
    "        L.append(f(x))\n",
    "        plt.title(\"f(x_k) en fonction de la kième itération\")\n",
    "        plt.xlabel('k')\n",
    "        plt.ylabel('f(x_k)')\n",
    "    plt.plot(np.arange(len(L)),L,color='k')\n",
    "    plt.show()\n",
    "    return(f(x))    "
   ]
  },
  {
   "cell_type": "code",
   "execution_count": 5,
   "metadata": {},
   "outputs": [
    {
     "data": {
      "image/png": "[encoded data removed]",
      "text/plain": [
       "<Figure size 432x288 with 1 Axes>"
      ]
     },
     "metadata": {},
     "output_type": "display_data"
    },
    {
     "data": {
      "text/plain": [
       "27.17339249081911"
      ]
     },
     "execution_count": 5,
     "metadata": {},
     "output_type": "execute_result"
    }
   ],
   "source": [
    "L = []\n",
    "a = 0\n",
    "v = np.zeros(m)\n",
    "L.append(a)\n",
    "L.append(v)\n",
    "methode_sous_grad(L,0.0005)"
   ]
  },
  {
   "cell_type": "markdown",
   "metadata": {},
   "source": [
    "## Question 3.1"
   ]
  },
  {
   "cell_type": "markdown",
   "metadata": {},
   "source": [
    "\\begin{align}\n",
    "E[f_I(v,a)]=\\sum_{i=1}^{n} f_i(v,a)\\times\\frac{1}{n}&=n\\times\\frac{1}{n}\\times\\frac{1}{2}||v||_2^2+c\\sum_{i=1}^{p} max(0,1-y_i(x_i^Tv+a))\\\\\n",
    "&=\\frac{1}{2}||v||_2^2+c\\sum_{i=1}^{p} max(0,1-y_i(x_i^Tv+a))\\\\\n",
    "&=f(v,a)\n",
    "\\end{align}"
   ]
  },
  {
   "cell_type": "markdown",
   "metadata": {},
   "source": [
    "## Question 3.2"
   ]
  },
  {
   "cell_type": "markdown",
   "metadata": {},
   "source": [
    "Calculons la sous différentielle de $f_i$:\n",
    "On note:\n",
    "\n",
    "\n",
    "$\\delta f_{i,interm}(v,a)=\\left\\{\n",
    "    \\begin{array}{ll}\n",
    "        \\{-1\\} \\mbox{si } 1-y_i(x_i^Tv+a)<1 \\\\\n",
    "        [-1,0]\\mbox{si } 1-y_i(x_i^Tv+a)=1 \\\\\n",
    "        \\{0\\} si  1-y_i(x_i^Tv+a)>1\n",
    "    \\end{array}\n",
    "\\right.$\n",
    "\n"
   ]
  },
  {
   "cell_type": "markdown",
   "metadata": {},
   "source": [
    "   $ \\delta_v f_{i}=v-cny_i x_i  \\delta f_{i,interm}(v,a)$\n",
    "   \n",
    "   \n",
    "   $\\delta_a f_{i}=-cny_i \\delta f_{i,interm}(v,a)$\n",
    "   \n",
    "   Donc:\n",
    "  $ \\delta f_{i}=\n",
    "\\begin{pmatrix} \n",
    "\\delta_v f_{i}  \\\\\n",
    "\\delta_a f_{i} \n",
    "\\end{pmatrix}$"
   ]
  },
  {
   "cell_type": "code",
   "execution_count": 16,
   "metadata": {},
   "outputs": [
    {
     "data": {
      "image/png": "[encoded data removed]",
      "text/plain": [
       "<Figure size 432x288 with 1 Axes>"
      ]
     },
     "metadata": {},
     "output_type": "display_data"
    },
    {
     "name": "stdout",
     "output_type": "stream",
     "text": [
      "4771161.705107647\n"
     ]
    },
    {
     "data": {
      "text/plain": [
       "(array([-410.91778907, -195.460749  , -420.64423479, -401.78396699,\n",
       "        -206.91509025, -365.32316421, -417.41964644, -447.57023401,\n",
       "        -205.33140062,  -24.88173538, -331.87200591,   16.37624643,\n",
       "        -335.12718667, -321.47493332,    8.64873166, -205.70056431,\n",
       "        -195.71358695, -275.52222019,   -5.36855316,  -85.62140572,\n",
       "        -430.64306483, -210.95064673, -439.66752304, -411.72403251,\n",
       "        -228.9205747 , -344.64605786, -384.23395098, -448.91621561,\n",
       "        -207.18663431, -188.8721768 ]), 1854.5521474524703)"
      ]
     },
     "execution_count": 16,
     "metadata": {},
     "output_type": "execute_result"
    }
   ],
   "source": [
    "X,y=load_breastcancer(r'C:\\Users\\Antoine\\Downloads\\wdbcM1B0 (1).data')\n",
    "def gradient_v_gradient_a(v,a):\n",
    "    i=np.random.randint(len(X))\n",
    "    V=v-len(X)*y[i]*X[i]*ss_grad_h(y[i]*(np.dot(X[i].T,v)+a))\n",
    "    A=-len(X)*y[i]*ss_grad_h(y[i]*(np.dot(X[i].T,v)+a))\n",
    "    return V,A\n",
    "def method_gradient_stoch(v0,a0):\n",
    "    v=v0\n",
    "    a=a0\n",
    "    L=[]\n",
    "    for i in range (1000):\n",
    "        gamma=1/(i+1)\n",
    "        v -= gamma*gradient_v_gradient_a(v,a)[0]\n",
    "        a -= gamma*gradient_v_gradient_a(v,a)[1]\n",
    "        L.append(f(np.append(v,a)))\n",
    "    plt.scatter(np.arange(len(L)),L)\n",
    "    plt.ylabel('valeur de f(v,a) au bout de la kième itération')\n",
    "    plt.xlabel('k')\n",
    "    plt.show()\n",
    "    print(f(np.append(v,a)))\n",
    "    return v,a\n",
    "method_gradient_stoch(np.zeros(30),0)\n",
    "    \n"
   ]
  },
  {
   "cell_type": "markdown",
   "metadata": {},
   "source": [
    "## Question 4.1"
   ]
  },
  {
   "cell_type": "markdown",
   "metadata": {},
   "source": [
    "\n",
    "Sa fonction Lagrangienne associée est:\n",
    "$L(v,a,\\phi,\\psi)=\\frac{1}{2} \\sum_{j=1}^{m} v_j^2 +\\sum_{i=1}^{n}max(0,1-y_i(x_i\tTv+a))-\\sum_{i=1}^{n}\\langle \\phi_i,\\xi_i\\rangle+\\sum_{i=1}^{n}\\langle \\psi_i,1-\\xi_i-y_i(x_i^Tv+a)\\rangle$"
   ]
  },
  {
   "cell_type": "markdown",
   "metadata": {},
   "source": [
    "## Question 4.2"
   ]
  },
  {
   "cell_type": "markdown",
   "metadata": {},
   "source": [
    "$1^{er}$ Cas: $x+\\frac{\\phi}{\\rho}>0$:\n",
    "\n",
    "$g(x,\\phi)=-\\frac{1}{2\\rho}\\phi^{2}+\\frac{\\rho}{2}(x+\\frac{\\phi}{\\rho})^2$\n",
    "\n",
    "$\\nabla_xg(x,\\phi)=\\frac{\\rho}{2}(2x+2\\frac{\\phi}{\\rho})=\\rho(x+\\frac{\\phi}{\\rho})$\n",
    "\n",
    "$\\nabla_\\phi g(x,\\phi)=\\frac{-\\phi}{\\rho} +\\frac{\\rho}{2}(\\frac{2x}{\\rho}+\\frac{2\\phi}{\\rho})=x$\n",
    "\n",
    "$2^{ème}$ Cas:$x+\\frac{\\phi}{\\rho}\\leq0$:\n",
    "\n",
    "$g(x,\\phi)=-\\frac{1}{2\\rho}\\phi^{2}$\n",
    "\n",
    "$\\nabla_x g(x,\\phi)=0$\n",
    "\n",
    "$\\nabla_\\phi g(x,\\phi)=-\\frac{\\phi}{\\rho}$\n",
    "\n",
    "\n",
    "Donc on obtient un formule pour nos deux gradients: à savoir:\n",
    "$\\nabla_x g(x,\\phi)=\\rho max(0,x+\\frac{\\phi}{\\rho})$ et ,\n",
    "$\\nabla_\\phi g(x,\\phi)=max(\\frac{-\\phi}{\\rho},x)$"
   ]
  },
  {
   "cell_type": "markdown",
   "metadata": {},
   "source": [
    "## Question 4.3"
   ]
  },
  {
   "cell_type": "markdown",
   "metadata": {},
   "source": [
    "Pour $x\\leq\\frac{-\\phi}{\\rho}$:\n",
    "\n",
    "$\\nabla_x^{2}g(x,\\phi)=0$\n",
    "\n",
    "$\\nabla_\\phi^{2}g(x,\\phi)=-\\frac{1}{\\rho}$\n",
    "\n",
    "Pour $x>\\frac{-\\phi}{\\rho}$:\n",
    "\n",
    "$\\nabla_x^{2}g(x,\\phi)=\\rho>0$\n",
    "\n",
    "$\\nabla_\\phi^{2}g(x,\\phi)=0$\n",
    "\n",
    "\n",
    "Donc la hessienne de $x\\rightarrow g(x,\\phi)$ est toujours positive (dans $\\mathbb{R}$),ainsi $x\\rightarrow g(x,\\phi)$ est convexe\n",
    "\n",
    "Puis, la hessienne de $\\phi\\rightarrow g(x,\\phi)$ est toujours negative (dans $\\mathbb{R}$),ainsi $\\phi\\rightarrow g(x,\\phi)$ est concave\n"
   ]
  },
  {
   "cell_type": "markdown",
   "metadata": {},
   "source": [
    "## Question 4.4"
   ]
  },
  {
   "cell_type": "code",
   "execution_count": null,
   "metadata": {},
   "outputs": [],
   "source": [
    "X,y=load_breastcancer(r'C:\\Users\\Antoine\\Downloads\\wdbcM1B0 (1).data')\n",
    "u=0\n",
    "def gradient_v(v,a,xi,psi,rho)\n",
    "    u=0\n",
    "    for i in range len(X):\n",
    "        u+=np.transpose(-y[i]X[i])*rho*max(0,-xi[i]+1-y[i]*(np.dot(np.transpos(X[i]),v)+a)+psi[i]/rho)\n",
    "    return u\n",
    "\n",
    "def gradient_a(xi,v,a,psi,rho):\n",
    "    u=0\n",
    "    for i in range (len(X)):\n",
    "        u+=-y[i]*rho*max(0,-xi[i]+1-y[i]*(np.dot(np.transpose(X[i]),v)+a)+psi[i]/rho)\n",
    "    return u\n",
    "\n",
    "def gradient_xi(xi,phi,psi,v,a,rho):\n",
    "    u=0\n",
    "    for i in range (len(X)):\n",
    "        u+=-np.transpose(np.ones(len(X)))\n",
    "    "
   ]
  }
 ],
 "metadata": {
  "kernelspec": {
   "display_name": "Python 3",
   "language": "python",
   "name": "python3"
  },
  "language_info": {
   "codemirror_mode": {
    "name": "ipython",
    "version": 3
   },
   "file_extension": ".py",
   "mimetype": "text/x-python",
   "name": "python",
   "nbconvert_exporter": "python",
   "pygments_lexer": "ipython3",
   "version": "3.6.5"
  }
 },
 "nbformat": 4,
 "nbformat_minor": 2
}
