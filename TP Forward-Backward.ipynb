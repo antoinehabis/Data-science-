{
  "nbformat": 4,
  "nbformat_minor": 0,
  "metadata": {
    "colab": {
      "name": "PGM_Lab_1.ipynb",
      "provenance": [],
      "collapsed_sections": []
    },
    "kernelspec": {
      "name": "python3",
      "display_name": "Python 3"
    }
  },
  "cells": [
    {
      "cell_type": "code",
      "metadata": {
        "id": "QXRWTxuzbttZ",
        "colab_type": "code",
        "colab": {}
      },
      "source": [
        "import numpy as np\n",
        "import matplotlib.pyplot as plt\n",
        "from scipy.linalg import toeplitz"
      ],
      "execution_count": 0,
      "outputs": []
    },
    {
      "cell_type": "markdown",
      "metadata": {
        "id": "y32y45tscuB0",
        "colab_type": "text"
      },
      "source": [
        "## Question 0:\n",
        "\n",
        "$s = \\log(\\sum_{i = 1}^{I}e^{v_i - v^* +v^*}) = v^* + \\log(\\sum_{i = 1}^{I}e^{v_i - v^*}) $\n",
        "\n",
        "\n",
        "With $v^*  = max{v_i} ,i \\in I$ . **This** was seen in the course. In the end the arguments in the exponential are positive so the log can be applied."
      ]
    },
    {
      "cell_type": "code",
      "metadata": {
        "id": "J_r8zqkhTGG7",
        "colab_type": "code",
        "outputId": "dc979969-e805-41e4-e3ca-6d037411b0d3",
        "colab": {
          "base_uri": "https://localhost:8080/",
          "height": 33
        }
      },
      "source": [
        "def log_sum_exp(v):\n",
        "  v_max = np.max(v)\n",
        "  return v_max + np.log(sum(np.exp(v-v_max))) \n",
        "print('For v = [-1234,-1235] we get: ' + str(log_sum_exp([-1234,-1235])))"
      ],
      "execution_count": 41,
      "outputs": [
        {
          "output_type": "stream",
          "text": [
            "For v = [-1234,-1235] we get: -1233.6867383124818\n"
          ],
          "name": "stdout"
        }
      ]
    },
    {
      "cell_type": "markdown",
      "metadata": {
        "id": "f5XpC6PXVXHL",
        "colab_type": "text"
      },
      "source": [
        "## Question 1"
      ]
    },
    {
      "cell_type": "markdown",
      "metadata": {
        "id": "0L4rPbXTgyt8",
        "colab_type": "text"
      },
      "source": [
        "###1. \n",
        "Let $N$ be the different states.\n",
        "\n",
        "Let $X_k$ be the true robot position after k iterations\n",
        "\n",
        "Let $Y_k$ be the state detected by the sensor.\n",
        "\n",
        "\n",
        "Let $E$ be a variable such that: $P(E=0) = 1- \\epsilon$\n",
        "and $P(E = 1) = \\epsilon$\n",
        "\n",
        "Let $U$ be a random variable following a uniform distribution on \n",
        "${1,...N}$\n",
        "\n",
        "Let $W$ be a random variable such that: $P(W=1) = w$\n",
        "and $P(W = 0) = 1 - w$\n",
        "\n",
        "\n",
        "So we have according to the text:\n",
        "\n",
        "$X_{k+1} = R[(E X_k + (1-E)(X_k + 1)),N] + 1$\n",
        "\n",
        "$Y_k = W X_k + U(1-W)$\n",
        "\n",
        "$R(a,N)$ being the rest of the euclidiant division of $a$ by $N$ ie. we have to work with the modulo\n",
        "\n",
        "\n",
        "\n",
        "\n",
        "\n"
      ]
    },
    {
      "cell_type": "markdown",
      "metadata": {
        "id": "EpUGLZCPVzF9",
        "colab_type": "text"
      },
      "source": [
        "### 2.\n",
        "The conditional probability table is given by $A_{i,j} = \\mathbb{P}(X_{k+1} = i|X_{k} = j)$ so with 1. we conclude that it is of the following form :\n",
        "\n",
        "\\begin{pmatrix} \\epsilon & 0 & ...&1 - \\epsilon \\\\\n",
        "                1-\\epsilon & \\epsilon &...& 0\\\\\n",
        "                .&1-\\epsilon\\\\\n",
        "                .\\\\\n",
        "               .\\\\\n",
        "               0& .&.&\\epsilon\\end{pmatrix}"
      ]
    },
    {
      "cell_type": "markdown",
      "metadata": {
        "id": "h1T35FklWnq4",
        "colab_type": "text"
      },
      "source": [
        "### 3. \n",
        "We write M the number of total observations.\n",
        "* (a) $\\mathbb{P}(x_k|y_{1:k})$\n",
        "* (b) $\\mathbb{P}(x_k|y_{1:M})$\n",
        "* (c) $\\mathbb{P}(x_{k+1}|y_{1:k})$\n",
        "* (d) $\\mathbb{P}(y_{k+1}|y_{1:k})$\n",
        "* (e) $\\mathbb{P}(x_0|y_{1:k})$\n",
        "* (f) $argmax_{x_k}\\mathbb{P}(x_k|y_{1:k})$\n",
        "* (e) $argmax_{x_{1:k}}\\mathbb{P}(x_{1:k}|y_{1:k})$\n",
        "\n",
        "\n",
        "\n",
        "\n",
        "\n",
        "\n",
        "\n"
      ]
    },
    {
      "cell_type": "markdown",
      "metadata": {
        "id": "RvrbwCHYYcpi",
        "colab_type": "text"
      },
      "source": [
        "###4."
      ]
    },
    {
      "cell_type": "code",
      "metadata": {
        "id": "K1aYtShJmuGb",
        "colab_type": "code",
        "outputId": "9af6903e-28fc-4d10-f0b8-af89c83af3b0",
        "colab": {
          "base_uri": "https://localhost:8080/",
          "height": 283
        }
      },
      "source": [
        "def simulation (w,eps,N, n_iter):\n",
        "  X = np.random.choice(np.arange(1,N+1), p = np.ones(N)/N)\n",
        "  List_X = [X]\n",
        "  W = np.random.choice(np.array([1,0]), p = np.array([w, 1-w]))\n",
        "  U = np.random.choice(np.arange(1,N+1), p = np.ones(N)/N)\n",
        "  y_0 = w*X + U*(1-W)\n",
        "  List_y = [y_0]\n",
        "  \n",
        "  for i in range (n_iter):\n",
        "    \n",
        "    E = np.random.choice(np.array([1,0]), p = np.array([eps, 1-eps]))\n",
        "    X = (E*X + (1-E)*(X+1)) % N \n",
        "    W = np.random.choice(np.array([1,0]), p =np.array([w, 1-w]))\n",
        "    U = np.random.choice(np.arange(1,N+1), p = np.ones(N)/N)\n",
        "    y = W*X + U*(1-W)\n",
        "    List_y.append(y)\n",
        "    List_X.append(X)\n",
        "    \n",
        "  List_X = [u + 1 for u in List_X]\n",
        "  List_y = [u + 1 for u in List_y]\n",
        "\n",
        "  plt.plot(np.arange(len(List_y)), List_y, label = 'evolution des observations')\n",
        "  plt.plot(np.arange(len(List_X)), List_X, label = 'evolution des vrais états')\n",
        "  plt.ylabel('états')\n",
        "  plt.xlabel('itérations')\n",
        "  plt.legend()\n",
        "  plt.grid()\n",
        "  plt.show()\n",
        "  \n",
        "simulation(0.8,0.3,50,100)"
      ],
      "execution_count": 42,
      "outputs": [
        {
          "output_type": "display_data",
          "data": {
            "image/png": "[encoded data removed]",
            "text/plain": [
              "<Figure size 432x288 with 1 Axes>"
            ]
          },
          "metadata": {
            "tags": []
          }
        }
      ]
    },
    {
      "cell_type": "code",
      "metadata": {
        "id": "7Iabso2U0DQ0",
        "colab_type": "code",
        "outputId": "ca73f692-1644-408f-eb77-dac4121539f0",
        "colab": {
          "base_uri": "https://localhost:8080/",
          "height": 134
        }
      },
      "source": [
        "N = 50\n",
        "eps = 0.3\n",
        "col_1 = np.zeros(N)\n",
        "col_1[0] = eps\n",
        "col_1[1] = 1-eps\n",
        "row_1 = np.zeros(N)\n",
        "row_1[0] = eps\n",
        "A = toeplitz(col_1, row_1)\n",
        "A[0][A.shape[0]-1] = 0.7\n",
        "print(A)"
      ],
      "execution_count": 43,
      "outputs": [
        {
          "output_type": "stream",
          "text": [
            "[[0.3 0.  0.  ... 0.  0.  0.7]\n",
            " [0.7 0.3 0.  ... 0.  0.  0. ]\n",
            " [0.  0.7 0.3 ... 0.  0.  0. ]\n",
            " ...\n",
            " [0.  0.  0.  ... 0.3 0.  0. ]\n",
            " [0.  0.  0.  ... 0.7 0.3 0. ]\n",
            " [0.  0.  0.  ... 0.  0.7 0.3]]\n"
          ],
          "name": "stdout"
        }
      ]
    },
    {
      "cell_type": "code",
      "metadata": {
        "id": "hkB1pmwi0UJb",
        "colab_type": "code",
        "colab": {}
      },
      "source": [
        "def forwardpass(A,w,observations):\n",
        "  ###Initialisation\n",
        "  B = np.ones(A.shape)*((1-w)/N) + np.eye(A.shape[0])*w\n",
        "  pi = np.ones(N)/N\n",
        "  log_alpha_kk1 = np.log(pi)\n",
        "  log_alpha_kk = log_alpha_kk1 + np.log(B[observations[0]-1])\n",
        "  \n",
        "  for i in range(1,len(observations)):\n",
        "    v_max = np.max(log_alpha_kk)\n",
        "    log_alpha_kk1 = v_max + np.log(A.dot(np.exp(log_alpha_kk-v_max)))\n",
        "    p_yk_xk = B[observations[i]-1]\n",
        "    log_alpha_kk = np.log(p_yk_xk) + log_alpha_kk1\n",
        "  result = np.exp(log_alpha_kk)\n",
        "  return result\n",
        "\n",
        " \n",
        "def backwardpass(A,w,observations):\n",
        "  ###Initialisation\n",
        "  B = np.ones(A.shape)*((1-w)/N) + np.eye(A.shape[0])*w\n",
        "  log_beta_kk1 = np.zeros(N)\n",
        "  log_beta_kk = np.log(B[observations[len(observations)-1]-1]+ log_beta_kk1)\n",
        "  for i in range(1,len(observations)):\n",
        "    v_max = np.max(log_beta_kk)\n",
        "    log_beta_kk1 = v_max + np.log(A.T.dot(np.exp(log_beta_kk-v_max)))\n",
        "    log_beta_kk = log_beta_kk1 + np.log(B[observations[len(observations)-i-1]-1])\n",
        "  return np.exp(log_beta_kk1), np.exp(log_beta_kk)"
      ],
      "execution_count": 0,
      "outputs": []
    },
    {
      "cell_type": "markdown",
      "metadata": {
        "id": "YBrLg8qcFmtD",
        "colab_type": "text"
      },
      "source": [
        "###5.\n",
        "\n",
        "\n",
        "$\\mathbb{P}(x_{k}|y_{1:k})$ est égal à $\\alpha_{k|k}(x_k)$ à une constante près mais comme c'est une densité de probabilité on peut simplement renormaliser $\\alpha_{k|k}.$"
      ]
    },
    {
      "cell_type": "code",
      "metadata": {
        "id": "vUbeq1r5tAiH",
        "colab_type": "code",
        "outputId": "d8623328-5c93-4d06-d773-a87e8c74fa92",
        "colab": {
          "base_uri": "https://localhost:8080/",
          "height": 251
        }
      },
      "source": [
        "alpha_kk = forwardpass(A, 0.3,[1,2,3,4,5,6])\n",
        "PxkY1k = alpha_kk/np.sum(alpha_kk)\n",
        "print('Voici P(xk|y1:k):')\n",
        "print(PxkY1k)"
      ],
      "execution_count": 65,
      "outputs": [
        {
          "output_type": "stream",
          "text": [
            "Voici P(xk|y1:k):\n",
            "[4.72276797e-08 1.96827423e-07 7.86771010e-06 3.92005741e-04\n",
            " 1.95999466e-02 9.79997961e-01 4.48901837e-08 4.48901837e-08\n",
            " 4.48901837e-08 4.48901837e-08 4.48901837e-08 4.48901837e-08\n",
            " 4.48901837e-08 4.48901837e-08 4.48901837e-08 4.48901837e-08\n",
            " 4.48901837e-08 4.48901837e-08 4.48901837e-08 4.48901837e-08\n",
            " 4.48901837e-08 4.48901837e-08 4.48901837e-08 4.48901837e-08\n",
            " 4.48901837e-08 4.48901837e-08 4.48901837e-08 4.48901837e-08\n",
            " 4.48901837e-08 4.48901837e-08 4.48901837e-08 4.48901837e-08\n",
            " 4.48901837e-08 4.48901837e-08 4.48901837e-08 4.48901837e-08\n",
            " 4.48901837e-08 4.48901837e-08 4.48901837e-08 4.48901837e-08\n",
            " 4.48901837e-08 4.48901837e-08 4.48901837e-08 4.48901837e-08\n",
            " 4.48901837e-08 4.48901837e-08 4.48901837e-08 4.48901837e-08\n",
            " 4.48901837e-08 4.48901837e-08]\n"
          ],
          "name": "stdout"
        }
      ]
    },
    {
      "cell_type": "markdown",
      "metadata": {
        "id": "3I92Eam-HIlz",
        "colab_type": "text"
      },
      "source": [
        "$\\mathbb{P}(x_{k}|y_{1:M})$ est proportionnel à $\\gamma_{k|k}(x_k) = \\alpha_{k|k}(x_k)*\\beta_{k|k+1}(x_k)$ donc on peut procéder de la manière suivante de façon analogue à juste avant. "
      ]
    },
    {
      "cell_type": "code",
      "metadata": {
        "id": "eS2h4QnVHOss",
        "colab_type": "code",
        "outputId": "004294d0-34bc-4635-ce78-0058e4237b11",
        "colab": {
          "base_uri": "https://localhost:8080/",
          "height": 251
        }
      },
      "source": [
        "alpha_kk = forwardpass(A, 0.3,[1,2,3,4,5,6])\n",
        "beta_kk1 = backwardpass(A,0.3,[7,8,9,10,11,12])[0]\n",
        "PxkY1M = alpha_kk*beta_kk1/np.sum(alpha_kk*beta_kk1)\n",
        "print('Voici P(xk|y1:M):')\n",
        "print(PxkY1M)"
      ],
      "execution_count": 57,
      "outputs": [
        {
          "output_type": "stream",
          "text": [
            "Voici P(xk|y1:M):\n",
            "[4.43996873e-08 1.85041401e-07 7.39659180e-06 3.68532446e-04\n",
            " 1.84263023e-02 9.21315705e-01 4.10777703e-02 1.84263023e-02\n",
            " 3.68532446e-04 7.39659180e-06 1.85041401e-07 4.43996873e-08\n",
            " 4.22021605e-08 4.22021605e-08 4.22021605e-08 4.22021605e-08\n",
            " 4.22021605e-08 4.22021605e-08 4.22021605e-08 4.22021605e-08\n",
            " 4.22021605e-08 4.22021605e-08 4.22021605e-08 4.22021605e-08\n",
            " 4.22021605e-08 4.22021605e-08 4.22021605e-08 4.22021605e-08\n",
            " 4.22021605e-08 4.22021605e-08 4.22021605e-08 4.22021605e-08\n",
            " 4.22021605e-08 4.22021605e-08 4.22021605e-08 4.22021605e-08\n",
            " 4.22021605e-08 4.22021605e-08 4.22021605e-08 4.22021605e-08\n",
            " 4.22021605e-08 4.22021605e-08 4.22021605e-08 4.22021605e-08\n",
            " 4.22021605e-08 4.22021605e-08 4.22021605e-08 4.22021605e-08\n",
            " 4.22021605e-08 4.22021605e-08]\n"
          ],
          "name": "stdout"
        }
      ]
    },
    {
      "cell_type": "markdown",
      "metadata": {
        "id": "HJ8Kgs69JAO8",
        "colab_type": "text"
      },
      "source": [
        " $argmax_{x_k}\\mathbb{P}(x_k|y_{1:k})$ se calcule en prenant l'argmax du résultat obtenu deux cellules plus haut.\n"
      ]
    },
    {
      "cell_type": "code",
      "metadata": {
        "id": "HVTnFxxBJ9RK",
        "colab_type": "code",
        "outputId": "a4d9191e-69ec-4f83-b198-eb259b8c5c6a",
        "colab": {
          "base_uri": "https://localhost:8080/",
          "height": 33
        }
      },
      "source": [
        "print('argmax_xk P(xk|y1:k)=' + str(np.argmax(PxkY1k)+ 1))"
      ],
      "execution_count": 58,
      "outputs": [
        {
          "output_type": "stream",
          "text": [
            "argmax_xk P(xk|y1:k)=6\n"
          ],
          "name": "stdout"
        }
      ]
    },
    {
      "cell_type": "markdown",
      "metadata": {
        "id": "mbbkAvxFcbl8",
        "colab_type": "text"
      },
      "source": [
        "### 6."
      ]
    },
    {
      "cell_type": "markdown",
      "metadata": {
        "id": "-rzJO2bHQLsc",
        "colab_type": "text"
      },
      "source": [
        "###1. \n",
        "\n",
        "Here is the new scenario: \n",
        "\n",
        "\n",
        "Let $N$ be the different states.\n",
        "\n",
        "Let $X_k$ be the true robot position after k iterations\n",
        "\n",
        "Let $Y_k$ be the state detected by the sensor.\n",
        "\n",
        "\n",
        "Let $E$ be a variable such that: $P(E=0) = 1- \\epsilon$\n",
        "and $P(E = 1) = \\epsilon$\n",
        "\n",
        "Let $U$ be a random variable following a uniform distribution on \n",
        "${1,...N}$\n",
        "\n",
        "Let $W$ be a random variable such that: $P(W=1) = w$\n",
        "and $P(W = 0) = 1 - w$\n",
        "\n",
        "Let $V$ be a random variable following a uniform distribution on \n",
        "${1,...N}$\n",
        "\n",
        "Let $K$ be a random variable such that: $P(K=1) = \\kappa$\n",
        "and $P(K = 0) = 1 - \\kappa$\n",
        "\n",
        "\n",
        "So we have according to the text:\n",
        "\n",
        "$X_{k+1} = (1-K)(R[(E X_k + (1-E)(X_k + 1)),N] + 1) + KV$\n",
        "\n",
        "$Y_k = W X_k + U(1-W)$\n",
        "\n",
        "$R(a,N)$ being the rest of the euclidiant division of $a$ by $N$ ie. we have to work with the modulo\n"
      ]
    },
    {
      "cell_type": "code",
      "metadata": {
        "id": "sbQvrdxfPSCB",
        "colab_type": "code",
        "outputId": "49dcb1ac-b813-4036-c8e1-8e04bfc63784",
        "colab": {
          "base_uri": "https://localhost:8080/",
          "height": 283
        }
      },
      "source": [
        "def simulation_2 (w,eps,N, n_iter,kappa):\n",
        "  X = np.random.choice(np.arange(1,N+1), p = np.ones(N)/N)\n",
        "  List_X = [X]\n",
        "  W = np.random.choice(np.array([1,0]), p = np.array([w, 1-w]))\n",
        "  U = np.random.choice(np.arange(1,N+1), p = np.ones(N)/N)\n",
        "  y_0 = w*X + U*(1-W)\n",
        "  List_y = [y_0]\n",
        "  \n",
        "  for i in range (n_iter):\n",
        "    \n",
        "    E = np.random.choice(np.array([1,0]), p = np.array([eps, 1-eps]))\n",
        "    K = np.random.choice(np.array([1,0]), p = np.array([kappa, 1-kappa]))\n",
        "    V = np.random.choice(np.arange(0,N), p = np.ones(N)/N)\n",
        "    \n",
        "    X = (1-K)*((E*X + (1-E)*(X+1)) % N ) + K*V\n",
        "    \n",
        "    W = np.random.choice(np.array([1,0]), p =np.array([w, 1-w]))\n",
        "    U = np.random.choice(np.arange(1,N+1), p = np.ones(N)/N)\n",
        "    \n",
        "    y = W*X + U*(1-W)\n",
        "    \n",
        "    List_y.append(y)\n",
        "    List_X.append(X)\n",
        "    \n",
        "  List_X = [u + 1 for u in List_X]\n",
        "  List_y = [u + 1 for u in List_y]\n",
        "\n",
        "  plt.plot(np.arange(len(List_y)), List_y, label = 'evolution des observations')\n",
        "  plt.plot(np.arange(len(List_X)), List_X, label = 'evolution des vrais états')\n",
        "  plt.ylabel('états')\n",
        "  plt.xlabel('itérations')\n",
        "  plt.legend()\n",
        "  plt.grid()\n",
        "  plt.show()\n",
        "  \n",
        "simulation_2(0.8,0.3,50,100,0.1)"
      ],
      "execution_count": 59,
      "outputs": [
        {
          "output_type": "display_data",
          "data": {
            "image/png": "[encoded data removed]",
            "text/plain": [
              "<Figure size 432x288 with 1 Axes>"
            ]
          },
          "metadata": {
            "tags": []
          }
        }
      ]
    },
    {
      "cell_type": "markdown",
      "metadata": {
        "id": "F1lQIWRPS_CD",
        "colab_type": "text"
      },
      "source": [
        "The transition matrix has changed so here we have to define a new one.\n",
        "\n",
        "In this Question the transition matrix is equal to:\n",
        "\n",
        "\n",
        "$B = \\begin{pmatrix}\n",
        "        (1-\\kappa) \\epsilon+ \\frac{\\kappa}{N}&\\frac{\\kappa}{N}& \\frac{\\kappa}{N}&.&(1-\\kappa)(1-\\epsilon) + \\frac{\\kappa}{N}\\\\\n",
        "        (1-\\kappa)(1-\\epsilon) + \\frac{\\kappa}{N} &(1-\\kappa) \\epsilon+ \\frac{\\kappa}{N}&\\frac{\\kappa}{N}&.&\\frac{\\kappa}{N}\\\\\n",
        "         \\frac{\\kappa}{N} &(1-\\kappa)(1-\\epsilon) + \\frac{\\kappa}{N}&(1-\\kappa) \\epsilon+ \\frac{\\kappa}{N}&.&\\frac{\\kappa}{N}\\\\\n",
        "         .&.&.&.&\\frac{\\kappa}{N}\\\\\n",
        "         \\frac{\\kappa}{N}&.&.&(1-\\kappa)(1-\\epsilon) + \\frac{\\kappa}{N}&(1-\\kappa) \\epsilon+ \\frac{\\kappa}{N}\\\\\n",
        "     \\end{pmatrix}\n",
        "     $"
      ]
    },
    {
      "cell_type": "code",
      "metadata": {
        "id": "AdcwhByVXR13",
        "colab_type": "code",
        "outputId": "46358e2b-ac41-4a12-8b82-1b47ab94154a",
        "colab": {
          "base_uri": "https://localhost:8080/",
          "height": 134
        }
      },
      "source": [
        "N = 50\n",
        "eps = 0.3\n",
        "kappa = 0.1\n",
        "col = np.ones(N)*(kappa)/N\n",
        "col[0] += (1-kappa)*eps\n",
        "col[1] += (1-kappa)*(1-eps)\n",
        "row = np.ones(N)*(kappa)/N\n",
        "row[0] += eps*(1-kappa)\n",
        "A_2 = toeplitz(col, row)\n",
        "A_2[0][N-1] = (1-kappa)*(1-eps) + kappa/N\n",
        "print(A_2)"
      ],
      "execution_count": 67,
      "outputs": [
        {
          "output_type": "stream",
          "text": [
            "[[0.272 0.002 0.002 ... 0.002 0.002 0.632]\n",
            " [0.632 0.272 0.002 ... 0.002 0.002 0.002]\n",
            " [0.002 0.632 0.272 ... 0.002 0.002 0.002]\n",
            " ...\n",
            " [0.002 0.002 0.002 ... 0.272 0.002 0.002]\n",
            " [0.002 0.002 0.002 ... 0.632 0.272 0.002]\n",
            " [0.002 0.002 0.002 ... 0.002 0.632 0.272]]\n"
          ],
          "name": "stdout"
        }
      ]
    },
    {
      "cell_type": "code",
      "metadata": {
        "id": "mhZ9_FBQS1cY",
        "colab_type": "code",
        "colab": {}
      },
      "source": [
        "def forwardpass_2(A,w,observations):\n",
        "  ###Initialisation\n",
        "  B = np.ones(A.shape)*((1-w)/N) + np.eye(A.shape[0])*w\n",
        "  pi = np.ones(N)/N\n",
        "  log_alpha_kk1 = np.log(pi)\n",
        "  log_alpha_kk = log_alpha_kk1 + np.log(B[observations[0]-1])\n",
        "  \n",
        "  for i in range(1,len(observations)):\n",
        "    v_max = np.max(log_alpha_kk)\n",
        "    log_alpha_kk1 = v_max + np.log(A.dot(np.exp(log_alpha_kk-v_max)))\n",
        "    p_yk_xk = B[observations[i]-1]\n",
        "    log_alpha_kk = np.log(p_yk_xk) + log_alpha_kk1\n",
        "  result = np.exp(log_alpha_kk)\n",
        "  return result\n",
        "\n",
        " \n",
        "def backwardpass_2(A,w,observations):\n",
        "  ###Initialisation\n",
        "  B = np.ones(A.shape)*((1-w)/N) + np.eye(A.shape[0])*w\n",
        "  log_beta_kk1 = np.zeros(N)\n",
        "  log_beta_kk = np.log(B[observations[len(observations)-1]-1]+ log_beta_kk1)\n",
        "  for i in range(1,len(observations)):\n",
        "    v_max = np.max(log_beta_kk)\n",
        "    log_beta_kk1 = v_max + np.log(A.T.dot(np.exp(log_beta_kk-v_max)))\n",
        "    log_beta_kk = log_beta_kk1 + np.log(B[observations[len(observations)-i-1]-1])\n",
        "  return np.exp(log_beta_kk1), np.exp(log_beta_kk)"
      ],
      "execution_count": 0,
      "outputs": []
    },
    {
      "cell_type": "markdown",
      "metadata": {
        "id": "mzYkCsovPTDL",
        "colab_type": "text"
      },
      "source": [
        "Now, at each step the robot can be kidnapped with a probability k and so he lands anywhere in the map with a uniform distribution.\n"
      ]
    },
    {
      "cell_type": "markdown",
      "metadata": {
        "id": "d7Tdo0A3Ymlt",
        "colab_type": "text"
      },
      "source": [
        "\n",
        "\n",
        "\n",
        "$\\mathbb{P}(x_{k}|y_{1:k})$ est égal à $\\alpha_{k|k}(x_k)$ à une constante près mais comme c'est une densité de probabilité on peut simplement renormaliser $\\alpha_{k|k}.$"
      ]
    },
    {
      "cell_type": "code",
      "metadata": {
        "id": "nU3itbI0YpCB",
        "colab_type": "code",
        "outputId": "cf981ea5-ab66-4fa4-f560-baea3d017ce9",
        "colab": {
          "base_uri": "https://localhost:8080/",
          "height": 251
        }
      },
      "source": [
        "alpha_kk = forwardpass_2(A_2, 0.3,[1,2,3,4,5,6])\n",
        "PxkY1k = alpha_kk/np.sum(alpha_kk)\n",
        "print('Voici P(xk|y1:k):')\n",
        "print(PxkY1k)"
      ],
      "execution_count": 69,
      "outputs": [
        {
          "output_type": "stream",
          "text": [
            "Voici P(xk|y1:k):\n",
            "[1.50709059e-04 1.50855273e-04 1.58388833e-04 5.37037245e-04\n",
            " 1.95367573e-02 9.72835153e-01 1.50706793e-04 1.50706793e-04\n",
            " 1.50706793e-04 1.50706793e-04 1.50706793e-04 1.50706793e-04\n",
            " 1.50706793e-04 1.50706793e-04 1.50706793e-04 1.50706793e-04\n",
            " 1.50706793e-04 1.50706793e-04 1.50706793e-04 1.50706793e-04\n",
            " 1.50706793e-04 1.50706793e-04 1.50706793e-04 1.50706793e-04\n",
            " 1.50706793e-04 1.50706793e-04 1.50706793e-04 1.50706793e-04\n",
            " 1.50706793e-04 1.50706793e-04 1.50706793e-04 1.50706793e-04\n",
            " 1.50706793e-04 1.50706793e-04 1.50706793e-04 1.50706793e-04\n",
            " 1.50706793e-04 1.50706793e-04 1.50706793e-04 1.50706793e-04\n",
            " 1.50706793e-04 1.50706793e-04 1.50706793e-04 1.50706793e-04\n",
            " 1.50706793e-04 1.50706793e-04 1.50706793e-04 1.50706793e-04\n",
            " 1.50706793e-04 1.50706793e-04]\n"
          ],
          "name": "stdout"
        }
      ]
    },
    {
      "cell_type": "markdown",
      "metadata": {
        "id": "DaBUGzHAY5ft",
        "colab_type": "text"
      },
      "source": [
        "$\\mathbb{P}(x_{k}|y_{1:M})$ est proportionnel à $\\gamma_{k|k}(x_k) = \\alpha_{k|k}(x_k)*\\beta_{k|k+1}(x_k)$ donc on peut procéder de la manière suivante de façon analogue à juste avant. "
      ]
    },
    {
      "cell_type": "code",
      "metadata": {
        "id": "Ne5_T-Z5Y5nj",
        "colab_type": "code",
        "outputId": "be781b6d-f107-4b8b-e169-9293262332db",
        "colab": {
          "base_uri": "https://localhost:8080/",
          "height": 251
        }
      },
      "source": [
        "alpha_kk = forwardpass_2(A_2, 0.3,[1,2,3,4,5,6])\n",
        "beta_kk1 = backwardpass_2(A_2,0.3,[7,8,9,10,11,12])[0]\n",
        "PxkY1M = alpha_kk*beta_kk1/np.sum(alpha_kk*beta_kk1)\n",
        "print('Voici P(xk|y1:M):')\n",
        "print(PxkY1M)"
      ],
      "execution_count": 70,
      "outputs": [
        {
          "output_type": "stream",
          "text": [
            "Voici P(xk|y1:M):\n",
            "[1.41776525e-04 1.41914073e-04 1.49001119e-04 5.05207019e-04\n",
            " 1.83788126e-02 9.15175162e-01 4.08039881e-02 1.83788126e-02\n",
            " 5.05207019e-04 1.49001119e-04 1.41914073e-04 1.41776525e-04\n",
            " 1.41774393e-04 1.41774393e-04 1.41774393e-04 1.41774393e-04\n",
            " 1.41774393e-04 1.41774393e-04 1.41774393e-04 1.41774393e-04\n",
            " 1.41774393e-04 1.41774393e-04 1.41774393e-04 1.41774393e-04\n",
            " 1.41774393e-04 1.41774393e-04 1.41774393e-04 1.41774393e-04\n",
            " 1.41774393e-04 1.41774393e-04 1.41774393e-04 1.41774393e-04\n",
            " 1.41774393e-04 1.41774393e-04 1.41774393e-04 1.41774393e-04\n",
            " 1.41774393e-04 1.41774393e-04 1.41774393e-04 1.41774393e-04\n",
            " 1.41774393e-04 1.41774393e-04 1.41774393e-04 1.41774393e-04\n",
            " 1.41774393e-04 1.41774393e-04 1.41774393e-04 1.41774393e-04\n",
            " 1.41774393e-04 1.41774393e-04]\n"
          ],
          "name": "stdout"
        }
      ]
    },
    {
      "cell_type": "markdown",
      "metadata": {
        "id": "308wZLiVZELV",
        "colab_type": "text"
      },
      "source": [
        " $argmax_{x_k}\\mathbb{P}(x_k|y_{1:k})$ se calcule en prenant l'argmax du résultat obtenu deux cellules plus haut.\n"
      ]
    },
    {
      "cell_type": "code",
      "metadata": {
        "id": "714VYbaxZERv",
        "colab_type": "code",
        "outputId": "76a9a091-5ab3-490b-bd2e-4b1341b4e1de",
        "colab": {
          "base_uri": "https://localhost:8080/",
          "height": 33
        }
      },
      "source": [
        "print('argmax_xk P(xk|y1:k)=' + str(np.argmax(PxkY1k)+ 1))"
      ],
      "execution_count": 71,
      "outputs": [
        {
          "output_type": "stream",
          "text": [
            "argmax_xk P(xk|y1:k)=6\n"
          ],
          "name": "stdout"
        }
      ]
    }
  ]
}