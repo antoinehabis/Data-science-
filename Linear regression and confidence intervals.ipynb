{
 "cells": [
  {
   "cell_type": "markdown",
   "metadata": {
    "scrolled": true
   },
   "source": [
    "# Lab SD204\n"
   ]
  },
  {
   "cell_type": "markdown",
   "metadata": {},
   "source": [
    "## Antoine HABIS"
   ]
  },
  {
   "cell_type": "markdown",
   "metadata": {},
   "source": [
    "## Question 1"
   ]
  },
  {
   "cell_type": "code",
   "execution_count": 171,
   "metadata": {},
   "outputs": [
    {
     "data": {
      "text/html": [
       "<div>\n",
       "<style scoped>\n",
       "    .dataframe tbody tr th:only-of-type {\n",
       "        vertical-align: middle;\n",
       "    }\n",
       "\n",
       "    .dataframe tbody tr th {\n",
       "        vertical-align: top;\n",
       "    }\n",
       "\n",
       "    .dataframe thead th {\n",
       "        text-align: right;\n",
       "    }\n",
       "</style>\n",
       "<table border=\"1\" class=\"dataframe\">\n",
       "  <thead>\n",
       "    <tr style=\"text-align: right;\">\n",
       "      <th></th>\n",
       "      <th>year</th>\n",
       "      <th>gnp</th>\n",
       "      <th>invest</th>\n",
       "      <th>cpi</th>\n",
       "      <th>interest</th>\n",
       "    </tr>\n",
       "  </thead>\n",
       "  <tbody>\n",
       "    <tr>\n",
       "      <th>0</th>\n",
       "      <td>1968</td>\n",
       "      <td>873.4</td>\n",
       "      <td>133.3</td>\n",
       "      <td>82.54</td>\n",
       "      <td>5.16</td>\n",
       "    </tr>\n",
       "    <tr>\n",
       "      <th>1</th>\n",
       "      <td>1969</td>\n",
       "      <td>944.0</td>\n",
       "      <td>149.3</td>\n",
       "      <td>86.79</td>\n",
       "      <td>5.87</td>\n",
       "    </tr>\n",
       "    <tr>\n",
       "      <th>2</th>\n",
       "      <td>1970</td>\n",
       "      <td>992.7</td>\n",
       "      <td>144.2</td>\n",
       "      <td>91.45</td>\n",
       "      <td>5.95</td>\n",
       "    </tr>\n",
       "    <tr>\n",
       "      <th>3</th>\n",
       "      <td>1971</td>\n",
       "      <td>1077.6</td>\n",
       "      <td>166.4</td>\n",
       "      <td>96.01</td>\n",
       "      <td>4.88</td>\n",
       "    </tr>\n",
       "    <tr>\n",
       "      <th>4</th>\n",
       "      <td>1972</td>\n",
       "      <td>1185.9</td>\n",
       "      <td>195.0</td>\n",
       "      <td>100.00</td>\n",
       "      <td>4.50</td>\n",
       "    </tr>\n",
       "    <tr>\n",
       "      <th>5</th>\n",
       "      <td>1973</td>\n",
       "      <td>1326.4</td>\n",
       "      <td>229.8</td>\n",
       "      <td>105.75</td>\n",
       "      <td>6.44</td>\n",
       "    </tr>\n",
       "    <tr>\n",
       "      <th>6</th>\n",
       "      <td>1974</td>\n",
       "      <td>1434.2</td>\n",
       "      <td>228.7</td>\n",
       "      <td>115.08</td>\n",
       "      <td>7.83</td>\n",
       "    </tr>\n",
       "    <tr>\n",
       "      <th>7</th>\n",
       "      <td>1975</td>\n",
       "      <td>1549.2</td>\n",
       "      <td>206.1</td>\n",
       "      <td>125.79</td>\n",
       "      <td>6.25</td>\n",
       "    </tr>\n",
       "    <tr>\n",
       "      <th>8</th>\n",
       "      <td>1976</td>\n",
       "      <td>1718.0</td>\n",
       "      <td>257.9</td>\n",
       "      <td>132.34</td>\n",
       "      <td>5.50</td>\n",
       "    </tr>\n",
       "    <tr>\n",
       "      <th>9</th>\n",
       "      <td>1977</td>\n",
       "      <td>1918.3</td>\n",
       "      <td>324.1</td>\n",
       "      <td>140.05</td>\n",
       "      <td>5.46</td>\n",
       "    </tr>\n",
       "    <tr>\n",
       "      <th>10</th>\n",
       "      <td>1978</td>\n",
       "      <td>2163.9</td>\n",
       "      <td>386.6</td>\n",
       "      <td>150.42</td>\n",
       "      <td>7.46</td>\n",
       "    </tr>\n",
       "    <tr>\n",
       "      <th>11</th>\n",
       "      <td>1979</td>\n",
       "      <td>2417.8</td>\n",
       "      <td>423.0</td>\n",
       "      <td>163.42</td>\n",
       "      <td>10.28</td>\n",
       "    </tr>\n",
       "    <tr>\n",
       "      <th>12</th>\n",
       "      <td>1980</td>\n",
       "      <td>2633.1</td>\n",
       "      <td>402.3</td>\n",
       "      <td>178.64</td>\n",
       "      <td>11.77</td>\n",
       "    </tr>\n",
       "    <tr>\n",
       "      <th>13</th>\n",
       "      <td>1981</td>\n",
       "      <td>2937.7</td>\n",
       "      <td>471.5</td>\n",
       "      <td>195.51</td>\n",
       "      <td>13.42</td>\n",
       "    </tr>\n",
       "    <tr>\n",
       "      <th>14</th>\n",
       "      <td>1982</td>\n",
       "      <td>3057.5</td>\n",
       "      <td>421.9</td>\n",
       "      <td>207.23</td>\n",
       "      <td>11.02</td>\n",
       "    </tr>\n",
       "  </tbody>\n",
       "</table>\n",
       "</div>"
      ],
      "text/plain": [
       "    year     gnp  invest     cpi  interest\n",
       "0   1968   873.4   133.3   82.54      5.16\n",
       "1   1969   944.0   149.3   86.79      5.87\n",
       "2   1970   992.7   144.2   91.45      5.95\n",
       "3   1971  1077.6   166.4   96.01      4.88\n",
       "4   1972  1185.9   195.0  100.00      4.50\n",
       "5   1973  1326.4   229.8  105.75      6.44\n",
       "6   1974  1434.2   228.7  115.08      7.83\n",
       "7   1975  1549.2   206.1  125.79      6.25\n",
       "8   1976  1718.0   257.9  132.34      5.50\n",
       "9   1977  1918.3   324.1  140.05      5.46\n",
       "10  1978  2163.9   386.6  150.42      7.46\n",
       "11  1979  2417.8   423.0  163.42     10.28\n",
       "12  1980  2633.1   402.3  178.64     11.77\n",
       "13  1981  2937.7   471.5  195.51     13.42\n",
       "14  1982  3057.5   421.9  207.23     11.02"
      ]
     },
     "execution_count": 171,
     "metadata": {},
     "output_type": "execute_result"
    }
   ],
   "source": [
    "import pandas as pd\n",
    "import matplotlib.pyplot as plt\n",
    "import csv\n",
    "import numpy as np\n",
    "import math\n",
    "import scipy\n",
    "from numpy import rank, matrix\n",
    "from sklearn.linear_model import LinearRegression\n",
    "\n",
    "\n",
    "\n",
    "with open(r'D:\\Antoine\\Documents\\SD\\invest.txt', 'r') as in_file:\n",
    "    \n",
    "    stripped = (line.strip() for line in in_file)\n",
    "    lines = (line.split(\";\") for line in stripped if line)\n",
    "    with open('invest.csv', 'w') as out_file:\n",
    "        writer = csv.writer(out_file)\n",
    "        writer.writerows(lines)\n",
    "\n",
    "\n",
    "fixed_df = pd.read_csv(r'D:\\Antoine\\Documents\\SD\\invest.txt', sep=' ', encoding='latin1', engine='python')\n",
    "pd.options.mode.chained_assignment = None\n",
    "fixed_df"
   ]
  },
  {
   "cell_type": "markdown",
   "metadata": {},
   "source": [
    "# Question 2"
   ]
  },
  {
   "cell_type": "code",
   "execution_count": 172,
   "metadata": {
    "scrolled": true
   },
   "outputs": [
    {
     "data": {
      "image/png": "[encoded data removed]",
      "text/plain": [
       "<Figure size 432x288 with 1 Axes>"
      ]
     },
     "metadata": {},
     "output_type": "display_data"
    }
   ],
   "source": [
    "X = fixed_df[\"gnp\"]\n",
    "Y = fixed_df[\"invest\"]\n",
    "Z = fixed_df[\"interest\"]\n",
    "n = len(X)\n",
    "plt.scatter(X,Y,color='k')\n",
    "plt.xlabel(\"GNP\")\n",
    "plt.ylabel(\"Invest\")\n",
    "plt.title(\"Representation of Invest as a function of GNP\")\n",
    "plt.grid()\n",
    "plt.show()"
   ]
  },
  {
   "cell_type": "markdown",
   "metadata": {},
   "source": [
    "## Question 3"
   ]
  },
  {
   "cell_type": "code",
   "execution_count": 173,
   "metadata": {},
   "outputs": [],
   "source": [
    "X, Y, Z = np.array(X), np.array(Y), np.array(Z)\n"
   ]
  },
  {
   "cell_type": "code",
   "execution_count": 174,
   "metadata": {},
   "outputs": [],
   "source": [
    "X = np.log(X)\n",
    "Z = np.log(Z)"
   ]
  },
  {
   "cell_type": "code",
   "execution_count": 99,
   "metadata": {},
   "outputs": [
    {
     "name": "stdout",
     "output_type": "stream",
     "text": [
      "the value of beta1 is: 1.015281401598871\n",
      "the value of beta0 is: -1.9635913352301833\n",
      "the value of R is: 0.9812019647380378\n"
     ]
    }
   ],
   "source": [
    "X_cent = X - np.mean(X)\n",
    "Y_cent = Y - np.mean(Y)\n",
    "C1 = np.dot(X_cent.T, Y_cent)\n",
    "C2 = np.linalg.norm(X_cent, 2)**2\n",
    "\n",
    "beta1 = C1/C2 \n",
    "beta0 = np.mean(Y)-beta1*np.mean(X)\n",
    "\n",
    "Y_temp = beta0+beta1*X\n",
    "num = np.linalg.norm(Y_temp-np.mean(Y),2)\n",
    "denom = np.linalg.norm(Y_cent,2)\n",
    "R = num/denom\n",
    "\n",
    "print('the value of beta1 is: '+str(beta1)+'\\n'+\n",
    "      'the value of beta0 is: '+str(beta0)+'\\n'+\n",
    "      'the value of R is: '+str(R))\n",
    "    \n"
   ]
  },
  {
   "cell_type": "markdown",
   "metadata": {},
   "source": [
    "## Question 4"
   ]
  },
  {
   "cell_type": "code",
   "execution_count": 100,
   "metadata": {},
   "outputs": [
    {
     "name": "stdout",
     "output_type": "stream",
     "text": [
      "the test statistic value : 18.331984456866685\n",
      "and the p value : 1.1363709973011282e-10\n"
     ]
    }
   ],
   "source": [
    "C4 = np.linalg.norm((Y-Y_temp), 2)**2\n",
    "sigma_squared = C4 / (n-2)\n",
    "Var_beta1 = sigma_squared / C2\n",
    "test1 = beta1 / np.sqrt(Var_beta1)\n",
    "p_value=2*(1-scipy.stats.t.cdf(test1, n-2))\n",
    "print('the test statistic value : '+str(test1)+'\\n'+\n",
    "      'and the p value : '+str(p_value)\n",
    "     )"
   ]
  },
  {
   "cell_type": "markdown",
   "metadata": {},
   "source": [
    "## Question 5"
   ]
  },
  {
   "cell_type": "code",
   "execution_count": 102,
   "metadata": {},
   "outputs": [
    {
     "name": "stdout",
     "output_type": "stream",
     "text": [
      "1.7709333959867988\n"
     ]
    }
   ],
   "source": [
    "Interval = scipy.stats.t.interval(0.90, n-2, loc=0, scale=1)\n",
    "x = Interval[1]\n",
    "print(x)"
   ]
  },
  {
   "cell_type": "code",
   "execution_count": 103,
   "metadata": {},
   "outputs": [
    {
     "name": "stdout",
     "output_type": "stream",
     "text": [
      "the confidence interval is:[4.988222845971109;5.111225406662491]\n",
      "the prediction interval is:[5.216628229194921;5.216628229194921]\n"
     ]
    }
   ],
   "source": [
    "u = x * np.sqrt(sigma_squared)* np.sqrt(1/n+(np.log(1000)-np.mean(X))**(2)/(C2))\n",
    "\n",
    "CI_1000_down = beta0 + beta1 * np.log(1000) - u\n",
    "CI_1000_high = beta0 + beta1 * math.log(1000) + u \n",
    "\n",
    "v = x * np.sqrt(sigma_squared) * np.sqrt(1+1/n+(np.log(1000)-mean(X))**(2)/(C2))\n",
    "\n",
    "PI_1000_down = beta0 + beta1 * np.log(1000) - v\n",
    "PI_1000_high = beta0 + beta1 * np.log(1000) + v\n",
    "\n",
    "print('the confidence interval is:['+str(CI_1000_down)+';'+str(CI_1000_high)+']'+\n",
    "     '\\n'+'the prediction interval is:['+str(PI_1000_high)+';'+str(PI_1000_high)+']')"
   ]
  },
  {
   "cell_type": "markdown",
   "metadata": {},
   "source": [
    "## Question 6"
   ]
  },
  {
   "cell_type": "code",
   "execution_count": 111,
   "metadata": {},
   "outputs": [
    {
     "data": {
      "image/png": "[encoded data removed]",
      "text/plain": [
       "<Figure size 432x288 with 1 Axes>"
      ]
     },
     "metadata": {},
     "output_type": "display_data"
    }
   ],
   "source": [
    "plt.plot(X,Y_temp,'r',label='regression linéaire')\n",
    "CI_down = np.zeros((n))\n",
    "CI_high = np.zeros((n))\n",
    "PI_down = np.zeros((n))\n",
    "PI_high = np.zeros((n))\n",
    "\n",
    "u = x * np.sqrt(sigma_squared)* np.sqrt(1/n+(X-np.mean(X))**(2)/(C2))\n",
    "\n",
    "CI_down = beta0 + beta1 * X - u\n",
    "CI_high = beta0 + beta1 * X + u \n",
    "\n",
    "v = x * np.sqrt(sigma_squared) * np.sqrt(1+1/n+(X-mean(X))**(2)/(C2))\n",
    "\n",
    "PI_down = beta0 + beta1 * X - v\n",
    "PI_high = beta0 + beta1 * X + v  \n",
    "    \n",
    "plt.fill_between(X, PI_down, PI_high, facecolor = 'y', alpha = 0.4,label = 'prediction interval at 90%')\n",
    "plt.fill_between(X, CI_down, CI_high, facecolor = 'g',alpha = 0.4,label = 'confidence interval at 90%')\n",
    "plt.scatter(X,Y,color='k')\n",
    "plt.xlabel(\"GNP\")\n",
    "plt.ylabel(\"Invest\")\n",
    "plt.yscale('log')\n",
    "plt.xscale('log')\n",
    "plt.title(\"Representation of Invest as a fonction of GNP\")\n",
    "plt.legend()\n",
    "plt.show()"
   ]
  },
  {
   "cell_type": "markdown",
   "metadata": {},
   "source": [
    "## Question 7"
   ]
  },
  {
   "cell_type": "code",
   "execution_count": 110,
   "metadata": {},
   "outputs": [
    {
     "name": "stdout",
     "output_type": "stream",
     "text": [
      "the slope is: 1.015281401598871\n",
      "the intercept is: -1.9635913352301815\n",
      "the predicted value in log is : 5.049724126316802\n"
     ]
    }
   ],
   "source": [
    "reg = LinearRegression().fit(X.values.reshape(n,1),Y.values.reshape(n,1))\n",
    "print(\"the slope is: \"+str(reg.coef_[0][0]))\n",
    "print(\"the intercept is: \"+str(reg.intercept_[0]))\n",
    "print(\"the predicted value in log is : \" + str(reg.predict(np.array([[np.log(1000)]]))[0][0]))\n"
   ]
  },
  {
   "cell_type": "markdown",
   "metadata": {},
   "source": [
    "## Question 8"
   ]
  },
  {
   "cell_type": "code",
   "execution_count": 113,
   "metadata": {},
   "outputs": [
    {
     "data": {
      "image/png": "[encoded data removed]",
      "text/plain": [
       "<Figure size 432x288 with 1 Axes>"
      ]
     },
     "metadata": {},
     "output_type": "display_data"
    }
   ],
   "source": [
    "plt.scatter(X,Y,color='k')\n",
    "plt.plot(X,X * reg.coef_[0][0] + reg.intercept_[0])\n",
    "plt.yscale('log')\n",
    "plt.xscale('log')\n",
    "plt.xlabel('GNP')\n",
    "plt.ylabel('Invest')\n",
    "plt.title(\"Representation of Invest as a function of GNP\")\n",
    "plt.scatter(np.log(1000),np.log(1000) * reg.coef_[0][0] + reg.intercept_[0], color = 'y', alpha = 1)\n",
    "plt.show()"
   ]
  },
  {
   "cell_type": "markdown",
   "metadata": {},
   "source": [
    "## Question 9"
   ]
  },
  {
   "cell_type": "code",
   "execution_count": 141,
   "metadata": {},
   "outputs": [
    {
     "name": "stdout",
     "output_type": "stream",
     "text": [
      "the rank of the gram matric is equal to 1\n"
     ]
    }
   ],
   "source": [
    "X1 = np.array(fixed_df[\"gnp\"])\n",
    "X1 = np.expand_dims(X1,0)\n",
    "\n",
    "Gram = np.dot(X1.T,X1) / n\n",
    "print(\"the rank of the gram matric is equal to \" + str(np.linalg.matrix_rank(Gram)))"
   ]
  },
  {
   "cell_type": "markdown",
   "metadata": {},
   "source": [
    "## Question 10"
   ]
  },
  {
   "cell_type": "code",
   "execution_count": 175,
   "metadata": {},
   "outputs": [
    {
     "name": "stdout",
     "output_type": "stream",
     "text": [
      "the value of beta0 : -1516.4474304057705\n",
      "the value of beta1: 236.49014682167774\n",
      "the value of beta2: 6.215766345336668\n",
      "\n",
      "the variance of beta0 is: 39224.87068144137\n",
      "the variance of beta1 is: 931.2038884909725\n",
      "the variance of beta2 is: 21.04799406838488\n",
      "\n",
      "the correlation coeficient is R : 0.9770339068241222\n",
      "\n",
      "the test statistic value for beta0 is : -7.656787589640305\n",
      "and the p value : 5.873159705016562e-06\n",
      "\n",
      "the test statistic value for beta1 is: 7.7498029574722205\n",
      "and the p value : 5.197438312620761e-06\n",
      "\n",
      "the test statistic value for beta2 is: 1.3548440997337017\n",
      "and the p value : 0.20042506782958291\n",
      "\n",
      "\n",
      "For beta0 and beta1 the pvalue is very small wa can reject the nul hypothesis but for beta2 the pvalue is very high so we can't reject this hypothesis\n"
     ]
    }
   ],
   "source": [
    "Z = np.array(fixed_df[\"interest\"])\n",
    "\n",
    "X2, Y2, Z2 = X.reshape(n,1), Y.reshape(n,1), Z.reshape(n,1)\n",
    "col1 = np.ones((n,1))\n",
    "K = np.concatenate((col1,X2,Z2), axis = 1) \n",
    "m = np.linalg.inv(np.dot(K.T,K))\n",
    "m = np.dot(m,K.T)\n",
    "m = np.dot(m,Y2).reshape(1,3)[0]\n",
    "\n",
    "sigma_squared_2 = (np.linalg.norm(Y - np.dot(K,m), 2)**2)/ (n-3)\n",
    "K1 = np.linalg.inv(np.dot(K.T,K))\n",
    "C = sigma_squared_2 * K1\n",
    "\n",
    "print('the value of beta0 : '+str(m[0])+'\\n'+\n",
    "      'the value of beta1: '+str(m[1])+'\\n'+\n",
    "      'the value of beta2: '+str(m[2])+'\\n\\n'+\n",
    "      'the variance of beta0 is: '+str(C[0][0])+'\\n'+\n",
    "      'the variance of beta1 is: '+str(C[1][1])+'\\n'+\n",
    "      'the variance of beta2 is: '+str(C[2][2])+'\\n')\n",
    "\n",
    "\n",
    "\n",
    "Y_temp = np.dot(K,m)\n",
    "num = np.linalg.norm((Y_temp - np.mean(Y)),2)**2\n",
    "denom = np.linalg.norm((Y - np.mean(Y)),2)**2 \n",
    "R1 = np.sqrt(num/ denom)\n",
    "\n",
    "print('the correlation coeficient is R : '+str(R1)+'\\n')\n",
    "\n",
    "\n",
    "testbeta0 = m[0] / np.sqrt(C[0][0])\n",
    "testbeta1 = m[1] / np.sqrt(C[1][1])\n",
    "testbeta2 = m[2] / np.sqrt(C[2][2])\n",
    "\n",
    "p_value_b0 = 2 * (1-scipy.stats.t.cdf(abs(testbeta0), n-3))\n",
    "p_value_b1 = 2 * (1-scipy.stats.t.cdf(abs(testbeta1), n-3))\n",
    "p_value_b2 = 2 * (1-scipy.stats.t.cdf(abs(testbeta2), n-3))\n",
    "\n",
    "\n",
    "print('the test statistic value for beta0 is : '+str(testbeta0)+'\\n'+\n",
    "      'and the p value : '+str(p_value_b0)+'\\n\\n'\n",
    "      'the test statistic value for beta1 is: '+str(testbeta1)+'\\n'+\n",
    "      'and the p value : '+str(p_value_b1)+'\\n\\n'\n",
    "      'the test statistic value for beta2 is: '+str(testbeta2)+'\\n'+\n",
    "      'and the p value : '+str(p_value_b2)+'\\n\\n'\n",
    "     )\n",
    "print(\"For beta0 and beta1 the pvalue is very small wa can reject the nul hypothesis but for beta2 the pvalue is very high so we can't reject this hypothesis\")\n"
   ]
  },
  {
   "cell_type": "markdown",
   "metadata": {},
   "source": [
    "## Question 11"
   ]
  },
  {
   "cell_type": "code",
   "execution_count": 176,
   "metadata": {},
   "outputs": [
    {
     "name": "stdout",
     "output_type": "stream",
     "text": [
      "the value of the prediction of the log(investment for GNP = 1000 and Interest = 10 is 179.32629318230124\n",
      "the confidence interval is:[66.96483043690833;291.6877559276942]\n",
      "the prediction interval is:[17.218174566394453;341.43441179820803]\n"
     ]
    }
   ],
   "source": [
    "Interval = scipy.stats.t.interval(0.999, n-3, loc=0, scale=1)\n",
    "x = Interval[1]\n",
    "F = np.array([[1,np.log(1000),10]])\n",
    "H = np.dot(np.dot(F,K1),np.transpose(F))\n",
    "\n",
    "u = m[0]+m[1]*np.log(1000)+m[2]*10\n",
    "v = x * math.sqrt(sigma_squared_2*H)\n",
    "w = x * math.sqrt(sigma_squared_2*(1+H))\n",
    "CI_1000_down = u - v\n",
    "CI_1000_high = u + v\n",
    "\n",
    "PI_1000_down = u - w\n",
    "PI_1000_high = u + w\n",
    "\n",
    "\n",
    "print('the value of the prediction of the log(investment for GNP = 1000 and Interest = 10 is '+str(u))\n",
    "print('the confidence interval is:['+str(CI_1000_down)+';'+str(CI_1000_high)+']'+\n",
    "     '\\n'+'the prediction interval is:['+str(PI_1000_down)+';'+str(PI_1000_high)+']')"
   ]
  },
  {
   "cell_type": "markdown",
   "metadata": {},
   "source": [
    "## Question 12"
   ]
  },
  {
   "cell_type": "code",
   "execution_count": 177,
   "metadata": {},
   "outputs": [
    {
     "data": {
      "image/png": "[encoded data removed]",
      "text/plain": [
       "<Figure size 432x288 with 1 Axes>"
      ]
     },
     "metadata": {},
     "output_type": "display_data"
    }
   ],
   "source": [
    "import matplotlib.pyplot as plt\n",
    "from mpl_toolkits.mplot3d import Axes3D\n",
    "\n",
    "\n",
    "fig = plt.figure()\n",
    "ax = fig.add_subplot(111, projection='3d')\n",
    "Interval=scipy.stats.t.interval(0.999, n-3, loc=0, scale=1)\n",
    "\n",
    "x=Interval[1]\n",
    "\n",
    "V = np.linspace(6.8,8,10)\n",
    "U = np.linspace(6,12,10)\n",
    "\n",
    "CI_down = np.zeros((len(U),len(V)))\n",
    "CI_high = np.zeros((len(U),len(V)))\n",
    "PI_down = np.zeros((len(U),len(V)))\n",
    "PI_high = np.zeros((len(U),len(V)))\n",
    "regline = np.zeros((len(U),len(V)))\n",
    "\n",
    "for i in range (len(U)):\n",
    "    for j in range (len(V)):\n",
    "        F = np.array([[1,V[i],U[i]]])\n",
    "        H = np.dot(np.dot(F,K1),np.transpose(F))\n",
    "        \n",
    "        u = m[0]+m[1]*V[j]+m[2]*U[i]\n",
    "        v = x * np.sqrt(sigma_squared_2*H)\n",
    "        w = x * np.sqrt(sigma_squared_2*(1+H))\n",
    "        \n",
    "        CI_down[i][j] = u - v\n",
    "        CI_high[i][j] = u + v\n",
    "        PI_down[i][j] = u - w\n",
    "        PI_high[i][j] = u + w\n",
    "        regline[i][j] = u\n",
    "        \n",
    "U,V=np.meshgrid(U,V)\n",
    "ax.plot_surface(V,U,regline,label='regression linéaire')\n",
    "ax.plot_surface(V,U,CI_down,color='r')\n",
    "ax.plot_surface(V,U,CI_high,color='r')\n",
    "ax.plot_surface(V,U,PI_down,color='b')\n",
    "ax.plot_surface(V,U,PI_high,color='b')\n",
    "ax.scatter(X,Z,Y,color='k', alpha=1)\n",
    "plt.show()"
   ]
  },
  {
   "cell_type": "markdown",
   "metadata": {},
   "source": [
    "## Question 13"
   ]
  },
  {
   "cell_type": "code",
   "execution_count": 179,
   "metadata": {},
   "outputs": [
    {
     "name": "stdout",
     "output_type": "stream",
     "text": [
      "the value of beta0 is:-1516.4474304050148\n",
      "the value of beta1 is:236.49014682156323\n",
      "the value of beta2 is:6.215766345350786\n",
      "the value of the prediction of the log(investment for GNP = 1000 and Interest = 10 is 179.3262931824072\n"
     ]
    }
   ],
   "source": [
    "X_verif = np.concatenate((X.reshape(len(X),1),Z.reshape(len(Z),1)),axis=1)\n",
    "reg = LinearRegression().fit(X_verif,Y.reshape(len(Y),1))\n",
    "beta0= reg.intercept_[0]\n",
    "beta1= reg.coef_[0][0]\n",
    "beta2= reg.coef_[0][1]\n",
    "\n",
    "print(\"the value of beta0 is:\"+str(beta0))\n",
    "print(\"the value of beta1 is:\"+str(beta1))\n",
    "print(\"the value of beta2 is:\"+str(beta2))\n",
    "prediction = reg.predict(np.array([[np.log(1000),10]]))[0][0]\n",
    "print('the value of the prediction of the log(investment for GNP = 1000 and Interest = 10 is '+ str(prediction))\n",
    "\n"
   ]
  },
  {
   "cell_type": "markdown",
   "metadata": {},
   "source": [
    "**These values are the same we found at question 10**"
   ]
  }
 ],
 "metadata": {
  "kernelspec": {
   "display_name": "Python 3",
   "language": "python",
   "name": "python3"
  },
  "language_info": {
   "codemirror_mode": {
    "name": "ipython",
    "version": 3
   },
   "file_extension": ".py",
   "mimetype": "text/x-python",
   "name": "python",
   "nbconvert_exporter": "python",
   "pygments_lexer": "ipython3",
   "version": "3.6.5"
  }
 },
 "nbformat": 4,
 "nbformat_minor": 2
}
