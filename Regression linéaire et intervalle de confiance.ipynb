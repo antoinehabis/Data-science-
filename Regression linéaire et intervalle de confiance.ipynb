{
 "cells": [
  {
   "cell_type": "markdown",
   "metadata": {
    "scrolled": true
   },
   "source": [
    "# TP de SD204\n"
   ]
  },
  {
   "cell_type": "markdown",
   "metadata": {},
   "source": [
    "## Antoine HABIS"
   ]
  },
  {
   "cell_type": "markdown",
   "metadata": {},
   "source": [
    "## Question 1"
   ]
  },
  {
   "cell_type": "code",
   "execution_count": 20,
   "metadata": {},
   "outputs": [
    {
     "data": {
      "text/html": [
       "<div>\n",
       "<style scoped>\n",
       "    .dataframe tbody tr th:only-of-type {\n",
       "        vertical-align: middle;\n",
       "    }\n",
       "\n",
       "    .dataframe tbody tr th {\n",
       "        vertical-align: top;\n",
       "    }\n",
       "\n",
       "    .dataframe thead th {\n",
       "        text-align: right;\n",
       "    }\n",
       "</style>\n",
       "<table border=\"1\" class=\"dataframe\">\n",
       "  <thead>\n",
       "    <tr style=\"text-align: right;\">\n",
       "      <th></th>\n",
       "      <th>year</th>\n",
       "      <th>gnp</th>\n",
       "      <th>invest</th>\n",
       "      <th>cpi</th>\n",
       "      <th>interest</th>\n",
       "    </tr>\n",
       "  </thead>\n",
       "  <tbody>\n",
       "    <tr>\n",
       "      <th>0</th>\n",
       "      <td>1968</td>\n",
       "      <td>873.4</td>\n",
       "      <td>133.3</td>\n",
       "      <td>82.54</td>\n",
       "      <td>5.16</td>\n",
       "    </tr>\n",
       "    <tr>\n",
       "      <th>1</th>\n",
       "      <td>1969</td>\n",
       "      <td>944.0</td>\n",
       "      <td>149.3</td>\n",
       "      <td>86.79</td>\n",
       "      <td>5.87</td>\n",
       "    </tr>\n",
       "    <tr>\n",
       "      <th>2</th>\n",
       "      <td>1970</td>\n",
       "      <td>992.7</td>\n",
       "      <td>144.2</td>\n",
       "      <td>91.45</td>\n",
       "      <td>5.95</td>\n",
       "    </tr>\n",
       "    <tr>\n",
       "      <th>3</th>\n",
       "      <td>1971</td>\n",
       "      <td>1077.6</td>\n",
       "      <td>166.4</td>\n",
       "      <td>96.01</td>\n",
       "      <td>4.88</td>\n",
       "    </tr>\n",
       "    <tr>\n",
       "      <th>4</th>\n",
       "      <td>1972</td>\n",
       "      <td>1185.9</td>\n",
       "      <td>195.0</td>\n",
       "      <td>100.00</td>\n",
       "      <td>4.50</td>\n",
       "    </tr>\n",
       "    <tr>\n",
       "      <th>5</th>\n",
       "      <td>1973</td>\n",
       "      <td>1326.4</td>\n",
       "      <td>229.8</td>\n",
       "      <td>105.75</td>\n",
       "      <td>6.44</td>\n",
       "    </tr>\n",
       "    <tr>\n",
       "      <th>6</th>\n",
       "      <td>1974</td>\n",
       "      <td>1434.2</td>\n",
       "      <td>228.7</td>\n",
       "      <td>115.08</td>\n",
       "      <td>7.83</td>\n",
       "    </tr>\n",
       "    <tr>\n",
       "      <th>7</th>\n",
       "      <td>1975</td>\n",
       "      <td>1549.2</td>\n",
       "      <td>206.1</td>\n",
       "      <td>125.79</td>\n",
       "      <td>6.25</td>\n",
       "    </tr>\n",
       "    <tr>\n",
       "      <th>8</th>\n",
       "      <td>1976</td>\n",
       "      <td>1718.0</td>\n",
       "      <td>257.9</td>\n",
       "      <td>132.34</td>\n",
       "      <td>5.50</td>\n",
       "    </tr>\n",
       "    <tr>\n",
       "      <th>9</th>\n",
       "      <td>1977</td>\n",
       "      <td>1918.3</td>\n",
       "      <td>324.1</td>\n",
       "      <td>140.05</td>\n",
       "      <td>5.46</td>\n",
       "    </tr>\n",
       "    <tr>\n",
       "      <th>10</th>\n",
       "      <td>1978</td>\n",
       "      <td>2163.9</td>\n",
       "      <td>386.6</td>\n",
       "      <td>150.42</td>\n",
       "      <td>7.46</td>\n",
       "    </tr>\n",
       "    <tr>\n",
       "      <th>11</th>\n",
       "      <td>1979</td>\n",
       "      <td>2417.8</td>\n",
       "      <td>423.0</td>\n",
       "      <td>163.42</td>\n",
       "      <td>10.28</td>\n",
       "    </tr>\n",
       "    <tr>\n",
       "      <th>12</th>\n",
       "      <td>1980</td>\n",
       "      <td>2633.1</td>\n",
       "      <td>402.3</td>\n",
       "      <td>178.64</td>\n",
       "      <td>11.77</td>\n",
       "    </tr>\n",
       "    <tr>\n",
       "      <th>13</th>\n",
       "      <td>1981</td>\n",
       "      <td>2937.7</td>\n",
       "      <td>471.5</td>\n",
       "      <td>195.51</td>\n",
       "      <td>13.42</td>\n",
       "    </tr>\n",
       "    <tr>\n",
       "      <th>14</th>\n",
       "      <td>1982</td>\n",
       "      <td>3057.5</td>\n",
       "      <td>421.9</td>\n",
       "      <td>207.23</td>\n",
       "      <td>11.02</td>\n",
       "    </tr>\n",
       "  </tbody>\n",
       "</table>\n",
       "</div>"
      ],
      "text/plain": [
       "    year     gnp  invest     cpi  interest\n",
       "0   1968   873.4   133.3   82.54      5.16\n",
       "1   1969   944.0   149.3   86.79      5.87\n",
       "2   1970   992.7   144.2   91.45      5.95\n",
       "3   1971  1077.6   166.4   96.01      4.88\n",
       "4   1972  1185.9   195.0  100.00      4.50\n",
       "5   1973  1326.4   229.8  105.75      6.44\n",
       "6   1974  1434.2   228.7  115.08      7.83\n",
       "7   1975  1549.2   206.1  125.79      6.25\n",
       "8   1976  1718.0   257.9  132.34      5.50\n",
       "9   1977  1918.3   324.1  140.05      5.46\n",
       "10  1978  2163.9   386.6  150.42      7.46\n",
       "11  1979  2417.8   423.0  163.42     10.28\n",
       "12  1980  2633.1   402.3  178.64     11.77\n",
       "13  1981  2937.7   471.5  195.51     13.42\n",
       "14  1982  3057.5   421.9  207.23     11.02"
      ]
     },
     "execution_count": 20,
     "metadata": {},
     "output_type": "execute_result"
    }
   ],
   "source": [
    "import pandas as pd\n",
    "import matplotlib.pyplot as plt\n",
    "import csv\n",
    "import numpy as np\n",
    "import math\n",
    "import scipy\n",
    "from numpy import rank, matrix\n",
    "from sklearn.linear_model import LinearRegression\n",
    "\n",
    "\n",
    "\n",
    "with open(r'C:\\Users\\Antoine\\Downloads\\pièces jointes\\invest.txt', 'r') as in_file:\n",
    "    \n",
    "    stripped = (line.strip() for line in in_file)\n",
    "    lines = (line.split(\";\") for line in stripped if line)\n",
    "    with open('invest.csv', 'w') as out_file:\n",
    "        writer = csv.writer(out_file)\n",
    "        writer.writerows(lines)\n",
    "\n",
    "\n",
    "fixed_df = pd.read_csv(r'C:\\Users\\Antoine\\Downloads\\pièces jointes\\invest.txt', sep=' ', encoding='latin1', engine='python')\n",
    "pd.options.mode.chained_assignment = None\n",
    "fixed_df"
   ]
  },
  {
   "cell_type": "markdown",
   "metadata": {},
   "source": [
    "# Question 2"
   ]
  },
  {
   "cell_type": "code",
   "execution_count": 19,
   "metadata": {
    "scrolled": true
   },
   "outputs": [
    {
     "data": {
      "image/png": "[encoded data removed]",
      "text/plain": [
       "<Figure size 432x288 with 1 Axes>"
      ]
     },
     "metadata": {},
     "output_type": "display_data"
    }
   ],
   "source": [
    "X=fixed_df[\"gnp\"]\n",
    "Y=fixed_df[\"invest\"]\n",
    "Z=fixed_df[\"interest\"]\n",
    "n=len(X)\n",
    "plt.scatter(X,Y,color='k')\n",
    "plt.xlabel(\"GNP\")\n",
    "plt.ylabel(\"Invest\")\n",
    "plt.title(\"Représentation de l'Invest en fonction de GNP\")\n",
    "plt.show()"
   ]
  },
  {
   "cell_type": "markdown",
   "metadata": {},
   "source": [
    "## Question 3"
   ]
  },
  {
   "cell_type": "code",
   "execution_count": 3,
   "metadata": {},
   "outputs": [],
   "source": [
    "def mean(X):\n",
    "    n=0\n",
    "    M=0\n",
    "    for i in range (len(X)):\n",
    "        M+=X[i]\n",
    "        n+=1\n",
    "    return M/n"
   ]
  },
  {
   "cell_type": "code",
   "execution_count": 4,
   "metadata": {},
   "outputs": [],
   "source": [
    "X=fixed_df[\"gnp\"]\n",
    "Y=fixed_df[\"invest\"]\n",
    "for i in range (n):\n",
    "    X[i]=math.log(X[i])\n",
    "    Y[i]=math.log(Y[i])"
   ]
  },
  {
   "cell_type": "code",
   "execution_count": 5,
   "metadata": {},
   "outputs": [
    {
     "name": "stdout",
     "output_type": "stream",
     "text": [
      "the value of beta1 is: 1.015281401598871\n",
      "the value of beta0 is: -1.9635913352301833\n",
      "the value of R is: 0.9812019647380378\n"
     ]
    }
   ],
   "source": [
    "C1=0\n",
    "C2=0\n",
    "for i in range (n):\n",
    "    C1+=(X[i]-mean(X))*(Y[i]-mean(Y))\n",
    "for i in range (n):\n",
    "    C2+=(X[i]-mean(X))**(2)\n",
    "beta1=C1/C2 \n",
    "beta0=mean(Y)-beta1*mean(X) \n",
    "Y_=[]\n",
    "for i in range (n):\n",
    "    Y_.append(beta0+beta1*X[i])\n",
    "numerateur=(Y_-mean(Y))**(2)\n",
    "denominateur=(Y-mean(Y))**(2)\n",
    "R=math.sqrt(sum(numerateur)/sum(denominateur))\n",
    "print('the value of beta1 is: '+str(beta1)+'\\n'+\n",
    "      'the value of beta0 is: '+str(beta0)+'\\n'+\n",
    "      'the value of R is: '+str(R))\n",
    "    \n",
    "\n",
    "    "
   ]
  },
  {
   "cell_type": "markdown",
   "metadata": {},
   "source": [
    "## Question 4"
   ]
  },
  {
   "cell_type": "code",
   "execution_count": 6,
   "metadata": {},
   "outputs": [
    {
     "name": "stdout",
     "output_type": "stream",
     "text": [
      "the test statistic value : 18.33198445686668\n",
      "and the p value : 1.1363709973011282e-10\n"
     ]
    }
   ],
   "source": [
    "C4=(Y-(beta0+beta1*X))**(2)\n",
    "sigma_carre=1/(n-2)*(sum(C4))\n",
    "Var_beta1=sigma_carre/C2\n",
    "test1=beta1/math.sqrt(Var_beta1)\n",
    "p_value=2*(1-scipy.stats.t.cdf(test1, n-2))\n",
    "print('the test statistic value : '+str(test1)+'\\n'+\n",
    "      'and the p value : '+str(p_value)\n",
    "     )"
   ]
  },
  {
   "cell_type": "markdown",
   "metadata": {},
   "source": [
    "## Question 5"
   ]
  },
  {
   "cell_type": "code",
   "execution_count": 7,
   "metadata": {},
   "outputs": [
    {
     "name": "stdout",
     "output_type": "stream",
     "text": [
      "1.7709333959867988\n"
     ]
    }
   ],
   "source": [
    "Interval=scipy.stats.t.interval(0.90, n-2, loc=0, scale=1)\n",
    "x=Interval[1]\n",
    "print(x)"
   ]
  },
  {
   "cell_type": "code",
   "execution_count": 8,
   "metadata": {},
   "outputs": [
    {
     "name": "stdout",
     "output_type": "stream",
     "text": [
      "the confidence interval is:[4.988222845971109;5.111225406662491]\n",
      "the prediction interval is:[4.882820023438679;5.216628229194921]\n"
     ]
    }
   ],
   "source": [
    "CI_1000_bas=beta0+beta1*math.log(1000)-x*math.sqrt(sigma_carre)*math.sqrt(1/n+(math.log(1000)-mean(X))**(2)/(C2))\n",
    "CI_1000_haut=beta0+beta1*math.log(1000)+x*math.sqrt(sigma_carre)*math.sqrt(1/n+(math.log(1000)-mean(X))**(2)/(C2))\n",
    "\n",
    "PI_1000_bas=beta0+beta1*math.log(1000)-x*math.sqrt(sigma_carre)*math.sqrt(1+1/n+(math.log(1000)-mean(X))**(2)/(C2))\n",
    "PI_1000_haut=beta0+beta1*math.log(1000)+x*math.sqrt(sigma_carre)*math.sqrt(1+1/n+(math.log(1000)-mean(X))**(2)/(C2))\n",
    "\n",
    "print('the confidence interval is:['+str(CI_1000_bas)+';'+str(CI_1000_haut)+']'+\n",
    "     '\\n'+'the prediction interval is:['+str(PI_1000_bas)+';'+str(PI_1000_haut)+']')"
   ]
  },
  {
   "cell_type": "markdown",
   "metadata": {},
   "source": [
    "## Question 6"
   ]
  },
  {
   "cell_type": "code",
   "execution_count": 9,
   "metadata": {},
   "outputs": [
    {
     "data": {
      "image/png": "[encoded data removed]",
      "text/plain": [
       "<Figure size 432x288 with 1 Axes>"
      ]
     },
     "metadata": {},
     "output_type": "display_data"
    }
   ],
   "source": [
    "regline=beta0+beta1*X\n",
    "plt.plot(X,regline,'r',label='regression linéaire')\n",
    "CI_bas=[]\n",
    "CI_haut=[]\n",
    "PI_bas=[]\n",
    "PI_haut=[]\n",
    "for i in range (n):\n",
    "    CI_bas.append(beta0+beta1*X[i]-x*math.sqrt(sigma_carre)*math.sqrt(1/n+(X[i]-mean(X))**(2)/(C2)))\n",
    "    CI_haut.append(beta0+beta1*X[i]+x*math.sqrt(sigma_carre)*math.sqrt(1/n+(X[i]-mean(X))**(2)/(C2)))\n",
    "    PI_bas.append(beta0+beta1*X[i]-x*math.sqrt(sigma_carre)*math.sqrt(1+1/n+(X[i]-mean(X))**(2)/(C2)))\n",
    "    PI_haut.append(beta0+beta1*X[i]+x*math.sqrt(sigma_carre)*math.sqrt(1+1/n+(X[i]-mean(X))**(2)/(C2)))\n",
    "plt.fill_between(X, PI_bas, PI_haut,facecolor='y', alpha=0.4,label='intervalle de prédiction à 90%')\n",
    "plt.fill_between(X, CI_bas, CI_haut,facecolor='g',alpha=0.4,label='intervalle de confiance à 90%')\n",
    "plt.scatter(X,Y,color='k')\n",
    "plt.xlabel(\"GNP\")\n",
    "plt.ylabel(\"Invest\")\n",
    "plt.yscale('log')\n",
    "plt.xscale('log')\n",
    "plt.title(\"Représentation de Invest en fonction de GNP\")\n",
    "plt.legend()\n",
    "plt.show()"
   ]
  },
  {
   "cell_type": "markdown",
   "metadata": {},
   "source": [
    "## Question 7"
   ]
  },
  {
   "cell_type": "code",
   "execution_count": 10,
   "metadata": {},
   "outputs": [
    {
     "name": "stdout",
     "output_type": "stream",
     "text": [
      "the slope is: 1.015281401598871\n",
      "the intercept is: -1.9635913352301815\n",
      "the predicted value in log is : 5.049724126316802\n"
     ]
    }
   ],
   "source": [
    "reg = LinearRegression().fit(X.values.reshape(n,1),Y.values.reshape(n,1))\n",
    "print(\"the slope is: \"+str(reg.coef_[0][0]))\n",
    "print(\"the intercept is: \"+str(reg.intercept_[0]))\n",
    "print(\"the predicted value in log is : \" + str(reg.predict(np.array([[np.log(1000)]]))[0][0]))\n"
   ]
  },
  {
   "cell_type": "markdown",
   "metadata": {},
   "source": [
    "## Question 8"
   ]
  },
  {
   "cell_type": "code",
   "execution_count": 11,
   "metadata": {},
   "outputs": [
    {
     "data": {
      "image/png": "[encoded data removed]",
      "text/plain": [
       "<Figure size 432x288 with 1 Axes>"
      ]
     },
     "metadata": {},
     "output_type": "display_data"
    }
   ],
   "source": [
    "plt.scatter(X,Y,color='k')\n",
    "plt.plot(X,X*reg.coef_[0][0]+reg.intercept_[0])\n",
    "plt.yscale('log')\n",
    "plt.xscale('log')\n",
    "plt.xlabel('GNP')\n",
    "plt.ylabel('Invest')\n",
    "plt.title(\"Représentation de Invest en fonction de GNP\")\n",
    "plt.scatter(math.log(1000),math.log(1000)*reg.coef_[0][0]+reg.intercept_[0], color='y', alpha=1)\n",
    "plt.show()"
   ]
  },
  {
   "cell_type": "markdown",
   "metadata": {},
   "source": [
    "## Question 9"
   ]
  },
  {
   "cell_type": "code",
   "execution_count": 12,
   "metadata": {},
   "outputs": [
    {
     "name": "stdout",
     "output_type": "stream",
     "text": [
      "1\n"
     ]
    }
   ],
   "source": [
    "X1=fixed_df[\"gnp\"]\n",
    "L=[]\n",
    "for i in range (len(X1)):\n",
    "    L.append(X1[i])\n",
    "M=[L]\n",
    "\n",
    "tM=np.transpose(M)\n",
    "Gram=np.dot(tM,M)/n\n",
    "print(np.linalg.matrix_rank(Gram))"
   ]
  },
  {
   "cell_type": "markdown",
   "metadata": {},
   "source": [
    "## Question 10"
   ]
  },
  {
   "cell_type": "code",
   "execution_count": 13,
   "metadata": {},
   "outputs": [
    {
     "name": "stdout",
     "output_type": "stream",
     "text": [
      "beta0 vaut: -2.1804547259122575\n",
      "beta1 vaut: 1.0512426913198811\n",
      "beta2 vaut: -0.006528879406102708\n",
      "\n",
      "La variance de beta0 vaut: 0.4387726972412736\n",
      "La variance de beta1 vaut: 0.010416524891898812\n",
      "La variance de beta2 vaut: 0.00023544462909531384\n",
      "\n",
      "the coefficient de correlation est: 0.9814839940990839\n",
      "\n",
      "the test statistic value for beta0 is : -3.2917532707860544\n",
      "and the p value : 0.006438367050919602\n",
      "\n",
      "the test statistic value for beta1 is: 10.30010285263899\n",
      "and the p value : 2.5995168484449493e-07\n",
      "\n",
      "the test statistic value for beta2 is: -0.4254947961258638\n",
      "and the p value : 0.6780071418822775\n",
      "\n",
      "\n",
      "pour beta0 et beta1 la p-value est très petite on peut donc rejeter l hypothese nulle mais pour ce qui est de beta 2 cette p-value est élevée ce qui ne nouspermet pas de rejetter l hypothese nulle\n"
     ]
    }
   ],
   "source": [
    "Z=fixed_df[\"interest\"]\n",
    "X_=[]\n",
    "Y_=[]\n",
    "Z_=[]\n",
    "col1=np.ones((n,1))\n",
    "for i in range (len(X)):\n",
    "    X_.append(X[i])\n",
    "    Y_.append(Y[i])\n",
    "    Z_.append(Z[i])\n",
    "X3=np.asarray(X_).reshape(n,1)\n",
    "Y3=np.asarray(Y_).reshape(n,1)\n",
    "Z3=np.asarray(Z_).reshape(n,1)\n",
    "\n",
    "K = np.concatenate((col1,X3,Z3),axis=1)\n",
    "m = np.linalg.inv(np.dot(np.transpose(K),K))\n",
    "m = np.dot(m,np.transpose(K))\n",
    "m= np.dot(m,np.array(Y).reshape(n,1))\n",
    "\n",
    "K1=np.linalg.inv(np.dot(np.transpose(K),K))\n",
    "sigma_carre_2=0\n",
    "for i in range (n):\n",
    "    sigma_carre_2+=(Y[i]-(m[0][0]+m[1][0]*K[i][1]+m[2][0]*K[i][2]))**(2)\n",
    "sigma_carre_2=sigma_carre_2/(n-3)\n",
    "C=sigma_carre_2*np.linalg.inv(np.dot(np.transpose(K),K))\n",
    "print('beta0 vaut: '+str(m[0][0])+'\\n'+\n",
    "      'beta1 vaut: '+str(m[1][0])+'\\n'+\n",
    "      'beta2 vaut: '+str(m[2][0])+'\\n\\n'+\n",
    "      'La variance de beta0 vaut: '+str(C[0][0])+'\\n'+\n",
    "      'La variance de beta1 vaut: '+str(C[1][1])+'\\n'+\n",
    "      'La variance de beta2 vaut: '+str(C[2][2])+'\\n')\n",
    "\n",
    "Y_=[]\n",
    "for i in range (n):\n",
    "    Y_.append(m[0][0]+m[1][0]*K[i][1]+m[2][0]*K[i][2])\n",
    "numerateur=(Y_-mean(Y))**(2)\n",
    "denominateur=(Y-mean(Y))**(2)\n",
    "R1=math.sqrt(sum(numerateur)/sum(denominateur))\n",
    "print('the coefficient de correlation est: '+str(R1)+'\\n')\n",
    "\n",
    "\n",
    "testbeta0=m[0][0]/math.sqrt(C[0][0])\n",
    "testbeta1=m[1][0]/math.sqrt(C[1][1])\n",
    "testbeta2=m[2][0]/math.sqrt(C[2][2])\n",
    "\n",
    "p_value_b0=2*(1-scipy.stats.t.cdf(abs(testbeta0), n-3))\n",
    "p_value_b1=2*(1-scipy.stats.t.cdf(abs(testbeta1), n-3))\n",
    "p_value_b2=2*(1-scipy.stats.t.cdf(abs(testbeta2), n-3))\n",
    "print('the test statistic value for beta0 is : '+str(testbeta0)+'\\n'+\n",
    "      'and the p value : '+str(p_value_b0)+'\\n\\n'\n",
    "      'the test statistic value for beta1 is: '+str(testbeta1)+'\\n'+\n",
    "      'and the p value : '+str(p_value_b1)+'\\n\\n'\n",
    "      'the test statistic value for beta2 is: '+str(testbeta2)+'\\n'+\n",
    "      'and the p value : '+str(p_value_b2)+'\\n\\n'\n",
    "     )\n",
    "print('pour beta0 et beta1 la p-value est très petite on peut donc rejeter l hypothese nulle mais pour ce qui est de beta 2 cette p-value est élevée ce qui ne nouspermet pas de rejetter l hypothese nulle')"
   ]
  },
  {
   "cell_type": "markdown",
   "metadata": {},
   "source": [
    "## Question 11"
   ]
  },
  {
   "cell_type": "code",
   "execution_count": 14,
   "metadata": {},
   "outputs": [
    {
     "name": "stdout",
     "output_type": "stream",
     "text": [
      "la valeur de la prediction du log(investement) pour GNP=1000 et Interest=10 est 5.015983730483013\n",
      "the confidence interval is:[4.64018403668841;5.391783424277616]\n",
      "the prediction interval is:[4.473803343640594;5.558164117325432]\n"
     ]
    }
   ],
   "source": [
    "Interval=scipy.stats.t.interval(0.999, n-3, loc=0, scale=1)\n",
    "x=Interval[1]\n",
    "F=np.array([[1,math.log(1000),10]])\n",
    "H=np.dot(np.dot(F,K1),np.transpose(F))\n",
    "CI_1000_bas=m[0][0]+m[1][0]*math.log(1000)+m[2][0]*10-x*math.sqrt(sigma_carre_2*H)\n",
    "CI_1000_haut=m[0][0]+m[1][0]*math.log(1000)+m[2][0]*10+x*math.sqrt(sigma_carre_2*H)\n",
    "\n",
    "PI_1000_bas=m[0][0]+m[1][0]*math.log(1000)+m[2][0]*10-x*math.sqrt(sigma_carre_2*(1+H))\n",
    "PI_1000_haut=m[0][0]+m[1][0]*math.log(1000)+m[2][0]*10+x*math.sqrt(sigma_carre_2*(1+H))\n",
    "print('la valeur de la prediction du log(investement) pour GNP=1000 et Interest=10 est '+str(m[0][0]+m[1][0]*math.log(1000)+m[2][0]*10))\n",
    "print('the confidence interval is:['+str(CI_1000_bas)+';'+str(CI_1000_haut)+']'+\n",
    "     '\\n'+'the prediction interval is:['+str(PI_1000_bas)+';'+str(PI_1000_haut)+']')"
   ]
  },
  {
   "cell_type": "markdown",
   "metadata": {},
   "source": [
    "## Question 12"
   ]
  },
  {
   "cell_type": "code",
   "execution_count": 15,
   "metadata": {},
   "outputs": [
    {
     "data": {
      "image/png": "[encoded data removed]",
      "text/plain": [
       "<Figure size 432x288 with 1 Axes>"
      ]
     },
     "metadata": {},
     "output_type": "display_data"
    }
   ],
   "source": [
    "import matplotlib.pyplot as plt\n",
    "from mpl_toolkits.mplot3d import Axes3D\n",
    "\n",
    "\n",
    "fig = plt.figure()\n",
    "ax = fig.add_subplot(111, projection='3d')\n",
    "Interval=scipy.stats.t.interval(0.999, n-3, loc=0, scale=1)\n",
    "x=Interval[1]\n",
    "V=np.linspace(6.8,8,10)\n",
    "U=np.linspace(6,12,10)\n",
    "CI_bas=np.zeros((len(U),len(V)))\n",
    "CI_haut=np.zeros((len(U),len(V)))\n",
    "PI_bas=np.zeros((len(U),len(V)))\n",
    "PI_haut=np.zeros((len(U),len(V)))\n",
    "regline=np.zeros((len(U),len(V)))\n",
    "for i in range (len(U)):\n",
    "    for j in range (len(V)):\n",
    "        F=np.array([[1,V[i],U[i]]])\n",
    "        H=np.dot(np.dot(F,K1),np.transpose(F))\n",
    "        CI_bas[i][j]=m[0][0]+m[1][0]*V[j]+m[2][0]*U[i]-x*math.sqrt(sigma_carre_2*H)\n",
    "        CI_haut[i][j]=m[0][0]+m[1][0]*V[j]+m[2][0]*U[i]+x*math.sqrt(sigma_carre_2*H)\n",
    "        PI_bas[i][j]=m[0][0]+m[1][0]*V[j]+m[2][0]*U[i]-x*math.sqrt(sigma_carre_2*(1+H))\n",
    "        PI_haut[i][j]=m[0][0]+m[1][0]*V[j]+m[2][0]*U[i]+x*math.sqrt(sigma_carre_2*(1+H))\n",
    "        regline[i][j]=m[0][0]+m[1][0]*V[j]+m[2][0]*U[i]\n",
    "U,V=np.meshgrid(U,V)\n",
    "ax.plot_surface(V,U,regline,label='regression linéaire')\n",
    "ax.plot_surface(V,U,CI_bas,color='r')\n",
    "ax.plot_surface(V,U,CI_haut,color='r')\n",
    "ax.plot_surface(V,U,PI_bas,color='b')\n",
    "ax.plot_surface(V,U,PI_haut,color='b')\n",
    "ax.scatter(X,Z,Y,color='k', alpha=1)\n",
    "\n",
    "plt.show()"
   ]
  },
  {
   "cell_type": "markdown",
   "metadata": {},
   "source": [
    "## Question 13"
   ]
  },
  {
   "cell_type": "code",
   "execution_count": 17,
   "metadata": {},
   "outputs": [
    {
     "name": "stdout",
     "output_type": "stream",
     "text": [
      "la valeur de beta0 est:-2.1804547259113995\n",
      "la valeur de beta1 est:1.051242691319659\n",
      "la valeur de beta2 est:-0.006528879406068229\n",
      "la valeur de la prediction du log(investement) pour GNP=1000 et Interest=10 est 5.015983730482683\n"
     ]
    }
   ],
   "source": [
    "X_verif = np.concatenate((X.values.reshape(len(X),1),Z.values.reshape(len(Z),1)),axis=1)\n",
    "reg = LinearRegression().fit(X_verif,Y.values.reshape(len(Y),1))\n",
    "beta0= reg.intercept_[0]\n",
    "beta1= reg.coef_[0][0]\n",
    "beta2= reg.coef_[0][1]\n",
    "\n",
    "print(\"la valeur de beta0 est:\"+str(beta0))\n",
    "print(\"la valeur de beta1 est:\"+str(beta1))\n",
    "print(\"la valeur de beta2 est:\"+str(beta2))\n",
    "prediction = reg.predict(np.array([[np.log(1000),10]]))[0][0]\n",
    "print('la valeur de la prediction du log(investement) pour GNP=1000 et Interest=10 est '+ str(prediction))\n",
    "\n"
   ]
  },
  {
   "cell_type": "markdown",
   "metadata": {},
   "source": [
    "**Ces valeurs sont similaires à celles trouvées précédemment à la question 10**"
   ]
  }
 ],
 "metadata": {
  "kernelspec": {
   "display_name": "Python 3",
   "language": "python",
   "name": "python3"
  },
  "language_info": {
   "codemirror_mode": {
    "name": "ipython",
    "version": 3
   },
   "file_extension": ".py",
   "mimetype": "text/x-python",
   "name": "python",
   "nbconvert_exporter": "python",
   "pygments_lexer": "ipython3",
   "version": "3.6.5"
  }
 },
 "nbformat": 4,
 "nbformat_minor": 2
}
